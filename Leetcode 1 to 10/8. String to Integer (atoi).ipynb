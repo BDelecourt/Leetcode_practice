{
 "cells": [
  {
   "cell_type": "code",
   "execution_count": 105,
   "metadata": {},
   "outputs": [
    {
     "data": {
      "text/plain": [
       "'\\nImplement the myAtoi(string s) function, which converts a string to a 32-bit signed integer.\\n\\nThe algorithm for myAtoi(string s) is as follows:\\n\\nWhitespace: Ignore any leading whitespace (\" \").\\nSignedness: Determine the sign by checking if the next character is \\'-\\' or \\'+\\', assuming positivity if neither present.\\nConversion: Read the integer by skipping leading zeros until a non-digit character is encountered or the end of the string is reached. If no digits were read, then the result is 0.\\nRounding: If the integer is out of the 32-bit signed integer range [-231, 231 - 1], then round the integer to remain in the range. Specifically, integers less than -231 should be rounded to -231, and integers greater than 231 - 1 should be rounded to 231 - 1.\\nReturn the integer as the final result.\\n\\nExample 1:\\nInput: s = \"42\"\\nOutput: 42\\n\\nExplanation:\\nThe underlined characters are what is read in and the caret is the current reader position.\\nStep 1: \"42\" (no characters read because there is no leading whitespace)\\n         ^\\nStep 2: \"42\" (no characters read because there is neither a \\'-\\' nor \\'+\\')\\n         ^\\nStep 3: \"42\" (\"42\" is read in)\\n           ^\\nExample 2:\\nInput: s = \" -042\"\\nOutput: -42\\nExplanation:\\n\\nStep 1: \"   -042\" (leading whitespace is read and ignored)\\n            ^\\nStep 2: \"   -042\" (\\'-\\' is read, so the result should be negative)\\n             ^\\nStep 3: \"   -042\" (\"042\" is read in, leading zeros ignored in the result)\\n               ^\\nExample 3:\\nInput: s = \"1337c0d3\"\\nOutput: 1337\\nExplanation:\\n\\nStep 1: \"1337c0d3\" (no characters read because there is no leading whitespace)\\n         ^\\nStep 2: \"1337c0d3\" (no characters read because there is neither a \\'-\\' nor \\'+\\')\\n         ^\\nStep 3: \"1337c0d3\" (\"1337\" is read in; reading stops because the next character is a non-digit)\\n             ^\\nExample 4:\\nInput: s = \"0-1\"\\nOutput: 0\\nExplanation:\\n\\nStep 1: \"0-1\" (no characters read because there is no leading whitespace)\\n         ^\\nStep 2: \"0-1\" (no characters read because there is neither a \\'-\\' nor \\'+\\')\\n         ^\\nStep 3: \"0-1\" (\"0\" is read in; reading stops because the next character is a non-digit)\\n          ^\\nExample 5:\\nInput: s = \"words and 987\"\\nOutput: 0\\nExplanation:\\n\\nReading stops at the first non-digit character \\'w\\'.\\nConstraints:\\n\\n0 <= s.length <= 200\\ns consists of English letters (lower-case and upper-case), digits (0-9), \\' \\', \\'+\\', \\'-\\', and \\'.\\'.\\n'"
      ]
     },
     "execution_count": 105,
     "metadata": {},
     "output_type": "execute_result"
    }
   ],
   "source": [
    "\"\"\"\n",
    "Implement the myAtoi(string s) function, which converts a string to a 32-bit signed integer.\n",
    "\n",
    "The algorithm for myAtoi(string s) is as follows:\n",
    "\n",
    "Whitespace: Ignore any leading whitespace (\" \").\n",
    "Signedness: Determine the sign by checking if the next character is '-' or '+', assuming positivity if neither present.\n",
    "Conversion: Read the integer by skipping leading zeros until a non-digit character is encountered or the end of the string is reached. If no digits were read, then the result is 0.\n",
    "Rounding: If the integer is out of the 32-bit signed integer range [-231, 231 - 1], then round the integer to remain in the range. Specifically, integers less than -231 should be rounded to -231, and integers greater than 231 - 1 should be rounded to 231 - 1.\n",
    "Return the integer as the final result.\n",
    "\n",
    "Example 1:\n",
    "Input: s = \"42\"\n",
    "Output: 42\n",
    "\n",
    "Explanation:\n",
    "The underlined characters are what is read in and the caret is the current reader position.\n",
    "Step 1: \"42\" (no characters read because there is no leading whitespace)\n",
    "         ^\n",
    "Step 2: \"42\" (no characters read because there is neither a '-' nor '+')\n",
    "         ^\n",
    "Step 3: \"42\" (\"42\" is read in)\n",
    "           ^\n",
    "Example 2:\n",
    "Input: s = \" -042\"\n",
    "Output: -42\n",
    "Explanation:\n",
    "\n",
    "Step 1: \"   -042\" (leading whitespace is read and ignored)\n",
    "            ^\n",
    "Step 2: \"   -042\" ('-' is read, so the result should be negative)\n",
    "             ^\n",
    "Step 3: \"   -042\" (\"042\" is read in, leading zeros ignored in the result)\n",
    "               ^\n",
    "Example 3:\n",
    "Input: s = \"1337c0d3\"\n",
    "Output: 1337\n",
    "Explanation:\n",
    "\n",
    "Step 1: \"1337c0d3\" (no characters read because there is no leading whitespace)\n",
    "         ^\n",
    "Step 2: \"1337c0d3\" (no characters read because there is neither a '-' nor '+')\n",
    "         ^\n",
    "Step 3: \"1337c0d3\" (\"1337\" is read in; reading stops because the next character is a non-digit)\n",
    "             ^\n",
    "Example 4:\n",
    "Input: s = \"0-1\"\n",
    "Output: 0\n",
    "Explanation:\n",
    "\n",
    "Step 1: \"0-1\" (no characters read because there is no leading whitespace)\n",
    "         ^\n",
    "Step 2: \"0-1\" (no characters read because there is neither a '-' nor '+')\n",
    "         ^\n",
    "Step 3: \"0-1\" (\"0\" is read in; reading stops because the next character is a non-digit)\n",
    "          ^\n",
    "Example 5:\n",
    "Input: s = \"words and 987\"\n",
    "Output: 0\n",
    "Explanation:\n",
    "\n",
    "Reading stops at the first non-digit character 'w'.\n",
    "Constraints:\n",
    "\n",
    "0 <= s.length <= 200\n",
    "s consists of English letters (lower-case and upper-case), digits (0-9), ' ', '+', '-', and '.'.\n",
    "\"\"\""
   ]
  },
  {
   "cell_type": "code",
   "execution_count": 106,
   "metadata": {},
   "outputs": [],
   "source": [
    "def myAtoi(s):\n",
    "    \"\"\"\n",
    "    :type s: str\n",
    "    :rtype: int\n",
    "    \"\"\"\n",
    "    INT_MIN, INT_MAX = -2**31, 2**31 - 1\n",
    "    i, n = 0, len(s)\n",
    "    sign, result = 1, 0\n",
    "\n",
    "    # Step 1: Ignore leading whitespace OR 0\n",
    "    while i < n and (s[i] == \" \" or s[i] == \"0\"):\n",
    "        i += 1\n",
    "    \n",
    "    # Step 2: Handle sign\n",
    "    if i < n and (s[i] == \"+\" or s[i] == \"-\"):\n",
    "        sign = -1 if s[i] == \"-\" else 1\n",
    "        i += 1\n",
    "\n",
    "    # Step 3: Convert digits to integer\n",
    "    while i < n and s[i].isdigit():\n",
    "        digit = int(s[i])\n",
    "        \n",
    "        # Step 4: Check for 32-bit overflow\n",
    "        if result > (INT_MAX - digit) // 10:\n",
    "            return INT_MAX if sign == 1 else INT_MIN\n",
    "\n",
    "        result = result * 10 + digit\n",
    "        i += 1\n",
    "\n",
    "    return sign * result\n"
   ]
  },
  {
   "cell_type": "code",
   "execution_count": 107,
   "metadata": {},
   "outputs": [],
   "source": [
    "s1= \"42\"\n",
    "s2 = \" -042\"\n",
    "s3 = \"1337c0d3\"\n",
    "s4 = \"0-1\"\n",
    "s5 = \"words and 987\""
   ]
  },
  {
   "cell_type": "code",
   "execution_count": 108,
   "metadata": {},
   "outputs": [
    {
     "data": {
      "text/plain": [
       "True"
      ]
     },
     "execution_count": 108,
     "metadata": {},
     "output_type": "execute_result"
    }
   ],
   "source": [
    "r=myAtoi(s1)\n",
    "r==42"
   ]
  },
  {
   "cell_type": "code",
   "execution_count": 109,
   "metadata": {},
   "outputs": [
    {
     "data": {
      "text/plain": [
       "True"
      ]
     },
     "execution_count": 109,
     "metadata": {},
     "output_type": "execute_result"
    }
   ],
   "source": [
    "myAtoi(s2)==-42"
   ]
  },
  {
   "cell_type": "code",
   "execution_count": 110,
   "metadata": {},
   "outputs": [
    {
     "data": {
      "text/plain": [
       "True"
      ]
     },
     "execution_count": 110,
     "metadata": {},
     "output_type": "execute_result"
    }
   ],
   "source": [
    "myAtoi(s3)==1337"
   ]
  },
  {
   "cell_type": "code",
   "execution_count": 111,
   "metadata": {},
   "outputs": [
    {
     "data": {
      "text/plain": [
       "True"
      ]
     },
     "execution_count": 111,
     "metadata": {},
     "output_type": "execute_result"
    }
   ],
   "source": [
    "myAtoi(s4)==-1"
   ]
  },
  {
   "cell_type": "code",
   "execution_count": 112,
   "metadata": {},
   "outputs": [
    {
     "data": {
      "text/plain": [
       "True"
      ]
     },
     "execution_count": 112,
     "metadata": {},
     "output_type": "execute_result"
    }
   ],
   "source": [
    "myAtoi(s5)==0"
   ]
  }
 ],
 "metadata": {
  "kernelspec": {
   "display_name": "base",
   "language": "python",
   "name": "python3"
  },
  "language_info": {
   "codemirror_mode": {
    "name": "ipython",
    "version": 3
   },
   "file_extension": ".py",
   "mimetype": "text/x-python",
   "name": "python",
   "nbconvert_exporter": "python",
   "pygments_lexer": "ipython3",
   "version": "3.11.5"
  }
 },
 "nbformat": 4,
 "nbformat_minor": 2
}
