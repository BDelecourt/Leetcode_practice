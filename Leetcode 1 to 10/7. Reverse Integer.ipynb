{
 "cells": [
  {
   "cell_type": "code",
   "execution_count": 78,
   "metadata": {},
   "outputs": [
    {
     "data": {
      "text/plain": [
       "'\\nGiven a signed 32-bit integer x, return x with its digits reversed.\\nIf reversing x causes the value to go outside the signed 32-bit integer range [-231, 231 - 1],\\nthen return 0.\\nAssume the environment does not allow you to store 64-bit integers (signed or unsigned).\\n\\nExample 1:\\nInput: x = 123\\nOutput: 321\\n\\nExample 2:\\nInput: x = -123\\nOutput: -321\\n\\nExample 3:\\nInput: x = 120\\nOutput: 21\\n \\nConstraints:\\n-231 <= x <= 231 - 1\\n'"
      ]
     },
     "execution_count": 78,
     "metadata": {},
     "output_type": "execute_result"
    }
   ],
   "source": [
    "\"\"\"\n",
    "Given a signed 32-bit integer x, return x with its digits reversed.\n",
    "If reversing x causes the value to go outside the signed 32-bit integer range [-231, 231 - 1],\n",
    "then return 0.\n",
    "Assume the environment does not allow you to store 64-bit integers (signed or unsigned).\n",
    "\n",
    "Example 1:\n",
    "Input: x = 123\n",
    "Output: 321\n",
    "\n",
    "Example 2:\n",
    "Input: x = -123\n",
    "Output: -321\n",
    "\n",
    "Example 3:\n",
    "Input: x = 120\n",
    "Output: 21\n",
    " \n",
    "Constraints:\n",
    "-231 <= x <= 231 - 1\n",
    "\"\"\""
   ]
  },
  {
   "cell_type": "code",
   "execution_count": 79,
   "metadata": {},
   "outputs": [],
   "source": [
    "def reverse(x):\n",
    "    \"\"\"\n",
    "    :type x: int\n",
    "    :rtype: int\n",
    "    \"\"\"\n",
    "    reverse=0\n",
    "    INT_MIN, INT_MAX = -2**31, 2**31 - 1\n",
    "    sign = -1 if x < 0 else 1\n",
    "    x=abs(x)\n",
    "    while x!=0:\n",
    "        last_digit=x%10\n",
    "\n",
    "        if reverse>(INT_MAX-last_digit)//10:\n",
    "            return 0\n",
    "        \n",
    "        reverse=reverse*10+last_digit\n",
    "        x//=10\n",
    "        \n",
    "    return reverse*sign"
   ]
  },
  {
   "cell_type": "code",
   "execution_count": 80,
   "metadata": {},
   "outputs": [
    {
     "name": "stdout",
     "output_type": "stream",
     "text": [
      "321\n"
     ]
    },
    {
     "data": {
      "text/plain": [
       "True"
      ]
     },
     "execution_count": 80,
     "metadata": {},
     "output_type": "execute_result"
    }
   ],
   "source": [
    "#Example 1:\n",
    "x = 123\n",
    "output=321\n",
    "r=reverse(x)\n",
    "print(r)\n",
    "r==output"
   ]
  },
  {
   "cell_type": "code",
   "execution_count": 81,
   "metadata": {},
   "outputs": [
    {
     "name": "stdout",
     "output_type": "stream",
     "text": [
      "-321\n"
     ]
    },
    {
     "data": {
      "text/plain": [
       "True"
      ]
     },
     "execution_count": 81,
     "metadata": {},
     "output_type": "execute_result"
    }
   ],
   "source": [
    "#Example 2:\n",
    "x =-123\n",
    "x//100\n",
    "output=-321\n",
    "r=reverse(x)\n",
    "print(r)\n",
    "r==output"
   ]
  },
  {
   "cell_type": "code",
   "execution_count": 82,
   "metadata": {},
   "outputs": [
    {
     "data": {
      "text/plain": [
       "True"
      ]
     },
     "execution_count": 82,
     "metadata": {},
     "output_type": "execute_result"
    }
   ],
   "source": [
    "#Example 3:\n",
    "x = 120\n",
    "output=21\n",
    "r=reverse(x)\n",
    "r==output"
   ]
  }
 ],
 "metadata": {
  "kernelspec": {
   "display_name": "base",
   "language": "python",
   "name": "python3"
  },
  "language_info": {
   "codemirror_mode": {
    "name": "ipython",
    "version": 3
   },
   "file_extension": ".py",
   "mimetype": "text/x-python",
   "name": "python",
   "nbconvert_exporter": "python",
   "pygments_lexer": "ipython3",
   "version": "3.11.5"
  }
 },
 "nbformat": 4,
 "nbformat_minor": 2
}
