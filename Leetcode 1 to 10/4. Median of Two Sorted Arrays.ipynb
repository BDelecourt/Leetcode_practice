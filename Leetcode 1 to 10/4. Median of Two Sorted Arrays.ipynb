{
 "cells": [
  {
   "cell_type": "code",
   "execution_count": null,
   "metadata": {},
   "outputs": [],
   "source": [
    "\"\"\"\n",
    "Given two sorted arrays nums1 and nums2 of size m and n respectively, return the median of the two sorted arrays.\n",
    "\n",
    "The overall run time complexity should be O(log (m+n)).\n",
    "\n",
    "\n",
    "Example 1:\n",
    "\n",
    "Input: nums1 = [1,3], nums2 = [2]\n",
    "Output: 2.00000\n",
    "Explanation: merged array = [1,2,3] and median is 2.\n",
    "\n",
    "Example 2:\n",
    "Input: nums1 = [1,2], nums2 = [3,4]\n",
    "Output: 2.50000\n",
    "Explanation: merged array = [1,2,3,4] and median is (2 + 3) / 2 = 2.5.\n",
    " \n",
    "\n",
    "Constraints:\n",
    "\n",
    "nums1.length == m\n",
    "nums2.length == n\n",
    "0 <= m <= 1000\n",
    "0 <= n <= 1000\n",
    "1 <= m + n <= 2000\n",
    "-106 <= nums1[i], nums2[i] <= 106\n",
    "\"\"\""
   ]
  },
  {
   "cell_type": "code",
   "execution_count": 34,
   "metadata": {},
   "outputs": [],
   "source": [
    "def findMedianSortedArrays(nums1, nums2):\n",
    "    \"\"\"\n",
    "    :type nums1: List[int]\n",
    "    :type nums2: List[int]\n",
    "    :rtype: float\n",
    "    \"\"\"\n",
    "    A,B = nums1, nums2\n",
    "    if len(B)<len(A):\n",
    "        A,B=B,A\n",
    "    n=len(A)\n",
    "    m=len(B)\n",
    "    total=n+m\n",
    "    half=total//2\n",
    "    l,r = 0,len(A)-1\n",
    "    while True:\n",
    "        i=(l+r)//2\n",
    "        j=half-i-2\n",
    "        Aleft = A[i] if i>=0 else float(\"-infinity\")\n",
    "        Aright = A[i+1] if i<n-1 else float(\"infinity\")\n",
    "        Bleft = B[j] if j>=0 else float(\"-infinity\")\n",
    "        Bright = B[j+1] if j<m-1 else float(\"infinity\")\n",
    "\n",
    "        print(f\"i={i},j={j}\")\n",
    "        print(f\"Aleft={Aleft},Aright={Aright},Bleft={Bleft},Bright={Bright}\")\n",
    "        \n",
    "        if Aleft<=Bright and Bleft<=Aright:\n",
    "            if total%2:\n",
    "                return min(Aright,Bright)\n",
    "            else:\n",
    "                return max(Aleft+Bright,Aright+Bleft)/2\n",
    "        elif Aleft>Bright:\n",
    "            r=i-1\n",
    "        else:\n",
    "            l=i+1\n",
    "        \n",
    "        "
   ]
  },
  {
   "cell_type": "code",
   "execution_count": 35,
   "metadata": {},
   "outputs": [
    {
     "name": "stdout",
     "output_type": "stream",
     "text": [
      "i=0,j=-1\n",
      "Aleft=2,Aright=inf,Bleft=-inf,Bright=1\n",
      "i=-1,j=0\n",
      "Aleft=-inf,Aright=2,Bleft=1,Bright=3\n",
      "2\n"
     ]
    }
   ],
   "source": [
    "nums1 = [1,3]\n",
    "nums2 = [2]\n",
    "print(findMedianSortedArrays(nums1, nums2))"
   ]
  }
 ],
 "metadata": {
  "kernelspec": {
   "display_name": "base",
   "language": "python",
   "name": "python3"
  },
  "language_info": {
   "codemirror_mode": {
    "name": "ipython",
    "version": 3
   },
   "file_extension": ".py",
   "mimetype": "text/x-python",
   "name": "python",
   "nbconvert_exporter": "python",
   "pygments_lexer": "ipython3",
   "version": "3.11.5"
  }
 },
 "nbformat": 4,
 "nbformat_minor": 2
}
