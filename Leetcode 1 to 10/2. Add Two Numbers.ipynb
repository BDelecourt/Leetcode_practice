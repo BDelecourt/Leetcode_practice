{
 "cells": [
  {
   "cell_type": "markdown",
   "id": "31bd08e3",
   "metadata": {},
   "source": [
    "\\# Problem<br>\n",
    "You are given two non-empty linked lists representing two non-negative integers.<br>\n",
    "The digits are stored in reverse order, and each of their nodes contains a single digit.<br>\n",
    "Add the two numbers and return the sum as a linked list.<br>\n",
    "You may assume the two numbers do not contain any leading zero, except the number 0 itself.<br>\n",
    "\n",
    "\\# Example 1:<br>\n",
    "Input: l1 = [2,4,3], l2 = [5,6,4]<br>\n",
    "Output: [7,0,8]<br>\n",
    "Explanation: 342 + 465 = 807.<br>\n",
    "\\# Example 2:<br>\n",
    "Input: l1 = [0], l2 = [0]<br>\n",
    "Output: [0]<br>\n",
    "\\# Example 3:<br>\n",
    "Input: l1 = [9,9,9,9,9,9,9], l2 = [9,9,9,9]<br>\n",
    "Output: [8,9,9,9,0,0,0,1]<br>\n",
    " \n",
    "\\# Constraints:<br>\n",
    "The number of nodes in each linked list is in the range [1, 100].<br>\n",
    "0 <= Node.val <= 9<br>\n",
    "It is guaranteed that the list represents a number that does not have leading zeros.<br>"
   ]
  },
  {
   "cell_type": "code",
   "execution_count": 3,
   "id": "76687acc",
   "metadata": {},
   "outputs": [],
   "source": [
    "l1 = [0]\n",
    "l2 = [0]"
   ]
  },
  {
   "cell_type": "code",
   "execution_count": 2,
   "id": "bef31d13",
   "metadata": {},
   "outputs": [],
   "source": [
    "def addTwoNumbers(l1, l2):\n",
    "        \"\"\"\n",
    "        :type l1: Optional[ListNode]\n",
    "        :type l2: Optional[ListNode]\n",
    "        :rtype: Optional[ListNode]\n",
    "        \"\"\"\n",
    "        result=[]\n",
    "        memory=0\n",
    "        for i in range(max(len(l1),len(l2))):\n",
    "            if i<len(l1) :\n",
    "                nb1=l1[i]\n",
    "            else:nb1=0\n",
    "            if i<len(l2) :\n",
    "                nb2=l2[i]\n",
    "            else:nb2=0\n",
    "            result.append((nb1+nb2+memory)%10)\n",
    "            memory=(nb1+nb2+memory)//10\n",
    "        if memory!=0:\n",
    "            result.append(memory)\n",
    "        return result \n",
    "    "
   ]
  },
  {
   "cell_type": "code",
   "execution_count": 4,
   "id": "dc0d19aa",
   "metadata": {},
   "outputs": [
    {
     "data": {
      "text/plain": [
       "[0]"
      ]
     },
     "execution_count": 4,
     "metadata": {},
     "output_type": "execute_result"
    }
   ],
   "source": [
    "addTwoNumbers(l1, l2)"
   ]
  },
  {
   "cell_type": "code",
   "execution_count": null,
   "id": "40adb46f",
   "metadata": {},
   "outputs": [],
   "source": []
  },
  {
   "cell_type": "code",
   "execution_count": null,
   "id": "a35e5d63",
   "metadata": {},
   "outputs": [],
   "source": []
  }
 ],
 "metadata": {
  "kernelspec": {
   "display_name": "base",
   "language": "python",
   "name": "python3"
  },
  "language_info": {
   "codemirror_mode": {
    "name": "ipython",
    "version": 3
   },
   "file_extension": ".py",
   "mimetype": "text/x-python",
   "name": "python",
   "nbconvert_exporter": "python",
   "pygments_lexer": "ipython3",
   "version": "3.11.5"
  }
 },
 "nbformat": 4,
 "nbformat_minor": 5
}
