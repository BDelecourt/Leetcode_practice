{
 "cells": [
  {
   "cell_type": "code",
   "execution_count": 26,
   "id": "598b0092",
   "metadata": {},
   "outputs": [
    {
     "data": {
      "text/plain": [
       "'\\nGiven an input string (s) and a pattern (p), \\nimplement wildcard pattern matching with support for \\'?\\' and \\'*\\' where:\\n\\'?\\' Matches any single character.\\n\\'*\\' Matches any sequence of characters (including the empty sequence).\\nThe matching should cover the entire input string (not partial).\\n\\nExample 1:\\nInput: s = \"aa\", p = \"a\"\\nOutput: false\\nExplanation: \"a\" does not match the entire string \"aa\".\\n\\nExample 2:\\nInput: s = \"aa\", p = \"*\"\\nOutput: true\\nExplanation: \\'*\\' matches any sequence.\\n\\nExample 3:\\nInput: s = \"cb\", p = \"?a\"\\nOutput: false\\nExplanation: \\'?\\' matches \\'c\\', but the second letter is \\'a\\', which does not match \\'b\\'.\\n\\nConstraints:\\n0 <= s.length, p.length <= 2000\\ns contains only lowercase English letters.\\np contains only lowercase English letters, \\'?\\' or \\'*\\'.\\n'"
      ]
     },
     "execution_count": 26,
     "metadata": {},
     "output_type": "execute_result"
    }
   ],
   "source": [
    "\"\"\"\n",
    "Given an input string (s) and a pattern (p), \n",
    "implement wildcard pattern matching with support for '?' and '*' where:\n",
    "'?' Matches any single character.\n",
    "'*' Matches any sequence of characters (including the empty sequence).\n",
    "The matching should cover the entire input string (not partial).\n",
    "\n",
    "Example 1:\n",
    "Input: s = \"aa\", p = \"a\"\n",
    "Output: false\n",
    "Explanation: \"a\" does not match the entire string \"aa\".\n",
    "\n",
    "Example 2:\n",
    "Input: s = \"aa\", p = \"*\"\n",
    "Output: true\n",
    "Explanation: '*' matches any sequence.\n",
    "\n",
    "Example 3:\n",
    "Input: s = \"cb\", p = \"?a\"\n",
    "Output: false\n",
    "Explanation: '?' matches 'c', but the second letter is 'a', which does not match 'b'.\n",
    "\n",
    "Constraints:\n",
    "0 <= s.length, p.length <= 2000\n",
    "s contains only lowercase English letters.\n",
    "p contains only lowercase English letters, '?' or '*'.\n",
    "\"\"\""
   ]
  },
  {
   "cell_type": "code",
   "execution_count": 27,
   "id": "7e76db9a",
   "metadata": {},
   "outputs": [],
   "source": [
    "def isMatch(s, p):\n",
    "    \"\"\"\n",
    "    :type s: str\n",
    "    :type p: str\n",
    "    :rtype: bool\n",
    "    \"\"\"\n",
    "    def dp(i,j):\n",
    "        if i==0 and j==0:\n",
    "            return True\n",
    "        if j==0:\n",
    "            return False\n",
    "        if i==0:\n",
    "            return all(x == '*' for x in p[:j])\n",
    "        \n",
    "        if p[j-1] == s[i-1] or p[j-1] == '?':\n",
    "            return dp(i-1,j-1)\n",
    "        if p[j-1] == '*':\n",
    "            return dp(i-1,j) or dp(i,j-1)\n",
    "        else:\n",
    "            return False\n",
    "   \n",
    "            \n",
    "    return dp(len(s),len(p))\n",
    "        \n"
   ]
  },
  {
   "cell_type": "code",
   "execution_count": 28,
   "id": "c620bbfa",
   "metadata": {},
   "outputs": [
    {
     "name": "stdout",
     "output_type": "stream",
     "text": [
      "False\n"
     ]
    }
   ],
   "source": [
    "s = \"aa\"\n",
    "p = \"a\"\n",
    "print(isMatch(s,p))\n",
    "\n"
   ]
  },
  {
   "cell_type": "code",
   "execution_count": 29,
   "id": "32ad7d1e",
   "metadata": {},
   "outputs": [
    {
     "name": "stdout",
     "output_type": "stream",
     "text": [
      "True\n"
     ]
    }
   ],
   "source": [
    "s = \"aa\"\n",
    "p = \"*\"\n",
    "print(isMatch(s,p))"
   ]
  }
 ],
 "metadata": {
  "kernelspec": {
   "display_name": "base",
   "language": "python",
   "name": "python3"
  },
  "language_info": {
   "codemirror_mode": {
    "name": "ipython",
    "version": 3
   },
   "file_extension": ".py",
   "mimetype": "text/x-python",
   "name": "python",
   "nbconvert_exporter": "python",
   "pygments_lexer": "ipython3",
   "version": "3.11.5"
  }
 },
 "nbformat": 4,
 "nbformat_minor": 5
}
