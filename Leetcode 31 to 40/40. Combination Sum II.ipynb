{
 "cells": [
  {
   "cell_type": "code",
   "execution_count": 43,
   "id": "ac53ca55",
   "metadata": {},
   "outputs": [
    {
     "data": {
      "text/plain": [
       "'\\nGiven a collection of candidate numbers (candidates) and a target number (target),\\nfind all unique combinations in candidates where the candidate numbers sum to target.\\nEach number in candidates may only be used once in the combination.\\nNote: The solution set must not contain duplicate combinations.\\n\\nExample 1:\\nInput: candidates = [10,1,2,7,6,1,5], target = 8\\nOutput: \\n[[1,1,6],[1,2,5],[1,7],[2,6]]\\n\\nExample 2:\\nInput: candidates = [2,5,2,1,2], target = 5\\nOutput: \\n[[1,2,2],[5]]\\n\\nConstraints:\\n1 <= candidates.length <= 100\\n1 <= candidates[i] <= 50\\n1 <= target <= 30\\n'"
      ]
     },
     "execution_count": 43,
     "metadata": {},
     "output_type": "execute_result"
    }
   ],
   "source": [
    "\"\"\"\n",
    "Given a collection of candidate numbers (candidates) and a target number (target),\n",
    "find all unique combinations in candidates where the candidate numbers sum to target.\n",
    "Each number in candidates may only be used once in the combination.\n",
    "Note: The solution set must not contain duplicate combinations.\n",
    "\n",
    "Example 1:\n",
    "Input: candidates = [10,1,2,7,6,1,5], target = 8\n",
    "Output: \n",
    "[[1,1,6],[1,2,5],[1,7],[2,6]]\n",
    "\n",
    "Example 2:\n",
    "Input: candidates = [2,5,2,1,2], target = 5\n",
    "Output: \n",
    "[[1,2,2],[5]]\n",
    "\n",
    "Constraints:\n",
    "1 <= candidates.length <= 100\n",
    "1 <= candidates[i] <= 50\n",
    "1 <= target <= 30\n",
    "\"\"\""
   ]
  },
  {
   "cell_type": "code",
   "execution_count": 44,
   "id": "61191ee4",
   "metadata": {},
   "outputs": [],
   "source": [
    "def combinationSum2(candidates, target):\n",
    "    \"\"\"\n",
    "    :type candidates: List[int]\n",
    "    :type target: int\n",
    "    :rtype: List[List[int]]\n",
    "    \"\"\"\n",
    "    solutions=[]\n",
    "    candidates.sort()\n",
    "    print(candidates)\n",
    "    def backtracking(list_sum,curr_sum, start):\n",
    "        if curr_sum==target:\n",
    "            solutions.append(list(list_sum))\n",
    "            return True\n",
    "        elif curr_sum > target :\n",
    "            return False\n",
    "        else:\n",
    "            for i in range(start,len(candidates)):\n",
    "               if i > start and candidates[i] == candidates[i-1]:\n",
    "                    continue  # skip duplicate numbers at same depth level\n",
    "               if candidates[i] > target - curr_sum:\n",
    "                   break\n",
    "               list_sum.append(candidates[i])\n",
    "               backtracking(list_sum,curr_sum + candidates[i] ,i+1)\n",
    "               list_sum.pop()\n",
    "    backtracking([],0,0)\n",
    "    return solutions\n"
   ]
  },
  {
   "cell_type": "code",
   "execution_count": 45,
   "id": "1b33bcbd",
   "metadata": {},
   "outputs": [
    {
     "name": "stdout",
     "output_type": "stream",
     "text": [
      "[1, 1, 2, 5, 6, 7, 10]\n"
     ]
    },
    {
     "data": {
      "text/plain": [
       "[[1, 1, 6], [1, 2, 5], [1, 7], [2, 6]]"
      ]
     },
     "execution_count": 45,
     "metadata": {},
     "output_type": "execute_result"
    }
   ],
   "source": [
    "candidates = [10,1,2,7,6,1,5]\n",
    "target = 8\n",
    "Output=[[1,1,6],[1,2,5],[1,7],[2,6]]\n",
    "combinationSum2(candidates,target)\n"
   ]
  },
  {
   "cell_type": "code",
   "execution_count": 46,
   "id": "e4a1e055",
   "metadata": {},
   "outputs": [
    {
     "name": "stdout",
     "output_type": "stream",
     "text": [
      "[1, 2, 2, 2, 5]\n"
     ]
    },
    {
     "data": {
      "text/plain": [
       "[[1, 2, 2], [5]]"
      ]
     },
     "execution_count": 46,
     "metadata": {},
     "output_type": "execute_result"
    }
   ],
   "source": [
    "candidates = [2,5,2,1,2]\n",
    "target = 5\n",
    "Output= [[1,2,2],[5]]\n",
    "combinationSum2(candidates,target)"
   ]
  }
 ],
 "metadata": {
  "kernelspec": {
   "display_name": "base",
   "language": "python",
   "name": "python3"
  },
  "language_info": {
   "codemirror_mode": {
    "name": "ipython",
    "version": 3
   },
   "file_extension": ".py",
   "mimetype": "text/x-python",
   "name": "python",
   "nbconvert_exporter": "python",
   "pygments_lexer": "ipython3",
   "version": "3.11.5"
  }
 },
 "nbformat": 4,
 "nbformat_minor": 5
}
