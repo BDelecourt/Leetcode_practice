{
 "cells": [
  {
   "cell_type": "code",
   "execution_count": 84,
   "id": "5b582344",
   "metadata": {},
   "outputs": [
    {
     "data": {
      "text/plain": [
       "'\\nA permutation of an array of integers is an arrangement of its members into a sequence or linear order.\\n\\nFor example, for arr = [1,2,3], the following are all the permutations of arr: \\n[1,2,3], [1,3,2], [2, 1, 3], [2, 3, 1], [3,1,2], [3,2,1].\\nThe next permutation of an array of integers is the next lexicographically greater permutation of its integer.\\nMore formally, if all the permutations of the array are sorted in one container \\naccording to their lexicographical order, then the next permutation of that array is the permutation\\nthat follows it in the sorted container. If such arrangement is not possible, the array must be rearranged\\nas the lowest possible order (i.e., sorted in ascending order).\\n\\nFor example, the next permutation of arr = [1,2,3] is [1,3,2].\\nSimilarly, the next permutation of arr = [2,3,1] is [3,1,2].\\nWhile the next permutation of arr = [3,2,1] is [1,2,3] because [3,2,1] does not have a lexicographical larger rearrangement.\\nGiven an array of integers nums, find the next permutation of nums.\\nThe replacement must be in place and use only constant extra memory.\\n\\nExample 1:\\nInput: nums = [1,2,3]\\nOutput: [1,3,2]\\n\\nExample 2:\\nInput: nums = [3,2,1]\\nOutput: [1,2,3]\\n\\nExample 3:\\nInput: nums = [1,1,5]\\nOutput: [1,5,1]\\n \\n\\nConstraints:\\n1 <= nums.length <= 100\\n0 <= nums[i] <= 100\\n'"
      ]
     },
     "execution_count": 84,
     "metadata": {},
     "output_type": "execute_result"
    }
   ],
   "source": [
    "\"\"\"\n",
    "A permutation of an array of integers is an arrangement of its members into a sequence or linear order.\n",
    "\n",
    "For example, for arr = [1,2,3], the following are all the permutations of arr: \n",
    "[1,2,3], [1,3,2], [2, 1, 3], [2, 3, 1], [3,1,2], [3,2,1].\n",
    "The next permutation of an array of integers is the next lexicographically greater permutation of its integer.\n",
    "More formally, if all the permutations of the array are sorted in one container \n",
    "according to their lexicographical order, then the next permutation of that array is the permutation\n",
    "that follows it in the sorted container. If such arrangement is not possible, the array must be rearranged\n",
    "as the lowest possible order (i.e., sorted in ascending order).\n",
    "\n",
    "For example, the next permutation of arr = [1,2,3] is [1,3,2].\n",
    "Similarly, the next permutation of arr = [2,3,1] is [3,1,2].\n",
    "While the next permutation of arr = [3,2,1] is [1,2,3] because [3,2,1] does not have a lexicographical larger rearrangement.\n",
    "Given an array of integers nums, find the next permutation of nums.\n",
    "The replacement must be in place and use only constant extra memory.\n",
    "\n",
    "Example 1:\n",
    "Input: nums = [1,2,3]\n",
    "Output: [1,3,2]\n",
    "\n",
    "Example 2:\n",
    "Input: nums = [3,2,1]\n",
    "Output: [1,2,3]\n",
    "\n",
    "Example 3:\n",
    "Input: nums = [1,1,5]\n",
    "Output: [1,5,1]\n",
    " \n",
    "\n",
    "Constraints:\n",
    "1 <= nums.length <= 100\n",
    "0 <= nums[i] <= 100\n",
    "\"\"\""
   ]
  },
  {
   "cell_type": "code",
   "execution_count": 85,
   "id": "32bc5505",
   "metadata": {},
   "outputs": [],
   "source": [
    "def nextPermutation(nums):\n",
    "    \"\"\"\n",
    "    :type nums: List[int]\n",
    "    :rtype: None Do not return anything, modify nums in-place instead.\n",
    "    \"\"\"\n",
    "    min=len(nums)-1\n",
    "    pivot=len(nums)-2\n",
    "\n",
    "    while pivot>=0 and nums[pivot]>=nums[pivot+1]:\n",
    "        pivot-=1\n",
    "    print(pivot)\n",
    "    if pivot>=0:\n",
    "        while nums[min]<nums[pivot]:\n",
    "            min-=1\n",
    "        nums[pivot],nums[min]=nums[min],nums[pivot]\n",
    "        print(min)\n",
    "\n",
    "    left,right=pivot+1,len(nums)-1\n",
    "    while left<right:\n",
    "        nums[left],nums[right]=nums[right],nums[left]\n",
    "        left+=1\n",
    "        right-=1\n",
    "    \n",
    "    return nums"
   ]
  },
  {
   "cell_type": "code",
   "execution_count": 86,
   "id": "963759cc",
   "metadata": {},
   "outputs": [
    {
     "name": "stdout",
     "output_type": "stream",
     "text": [
      "1\n",
      "3\n"
     ]
    },
    {
     "data": {
      "text/plain": [
       "[1, 4, 2, 3, 5]"
      ]
     },
     "execution_count": 86,
     "metadata": {},
     "output_type": "execute_result"
    }
   ],
   "source": [
    "nums = [1, 3, 5, 4, 2]\n",
    "nextPermutation(nums)"
   ]
  },
  {
   "cell_type": "code",
   "execution_count": 87,
   "id": "27addadf",
   "metadata": {},
   "outputs": [
    {
     "name": "stdout",
     "output_type": "stream",
     "text": [
      "-1\n"
     ]
    },
    {
     "data": {
      "text/plain": [
       "[1, 2, 3]"
      ]
     },
     "execution_count": 87,
     "metadata": {},
     "output_type": "execute_result"
    }
   ],
   "source": [
    "arr = [3,2,1]\n",
    "nextPermutation(arr)"
   ]
  },
  {
   "cell_type": "code",
   "execution_count": 88,
   "id": "21e050bb",
   "metadata": {},
   "outputs": [
    {
     "name": "stdout",
     "output_type": "stream",
     "text": [
      "0\n",
      "1\n"
     ]
    },
    {
     "data": {
      "text/plain": [
       "[3, 1, 2]"
      ]
     },
     "execution_count": 88,
     "metadata": {},
     "output_type": "execute_result"
    }
   ],
   "source": [
    "arr2 = [2,3,1]\n",
    "nextPermutation(arr2)"
   ]
  }
 ],
 "metadata": {
  "kernelspec": {
   "display_name": "base",
   "language": "python",
   "name": "python3"
  },
  "language_info": {
   "codemirror_mode": {
    "name": "ipython",
    "version": 3
   },
   "file_extension": ".py",
   "mimetype": "text/x-python",
   "name": "python",
   "nbconvert_exporter": "python",
   "pygments_lexer": "ipython3",
   "version": "3.11.5"
  }
 },
 "nbformat": 4,
 "nbformat_minor": 5
}
