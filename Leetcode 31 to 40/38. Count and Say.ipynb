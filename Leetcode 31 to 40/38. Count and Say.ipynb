{
 "cells": [
  {
   "cell_type": "code",
   "execution_count": null,
   "id": "7b218ea6",
   "metadata": {},
   "outputs": [],
   "source": [
    "\"\"\"\n",
    "The count-and-say sequence is a sequence of digit strings defined by the recursive formula:\n",
    "countAndSay(1) = \"1\"\n",
    "countAndSay(n) is the run-length encoding of countAndSay(n - 1).\n",
    "Run-length encoding (RLE) is a string compression method that works \n",
    "by replacing consecutive identical characters (repeated 2 or more times) \n",
    "with the concatenation of the character and the number marking the count of the characters (length of the run). \n",
    "For example, to compress the string \"3322251\" we replace \"33\" with \"23\", \n",
    "replace \"222\" with \"32\", replace \"5\" with \"15\" and replace \"1\" with \"11\".\n",
    "Thus the compressed string becomes \"23321511\".\n",
    "Given a positive integer n, return the nth element of the count-and-say sequence.\n",
    "\n",
    "Example 1:\n",
    "Input: n = 4\n",
    "Output: \"1211\"\n",
    "Explanation:\n",
    "countAndSay(1) = \"1\"\n",
    "countAndSay(2) = RLE of \"1\" = \"11\"\n",
    "countAndSay(3) = RLE of \"11\" = \"21\"\n",
    "countAndSay(4) = RLE of \"21\" = \"1211\"\n",
    "\n",
    "Example 2:\n",
    "Input: n = 1\n",
    "Output: \"1\"\n",
    "Explanation:\n",
    "This is the base case.\n",
    "\n",
    "Constraints:\n",
    "1 <= n <= 30\n",
    " \n",
    "Follow up: Could you solve it iteratively?\n",
    "\"\"\""
   ]
  },
  {
   "cell_type": "code",
   "execution_count": 37,
   "id": "bb71fc9e",
   "metadata": {},
   "outputs": [],
   "source": [
    "def countAndSay(n: int) -> str:\n",
    "    \"\"\"\n",
    "    Builds the nth term of the 'Count and Say' sequence.\n",
    "    Each term is a verbal run-length encoding of the previous term.\n",
    "    \"\"\"\n",
    "    current_term = \"1\"\n",
    "    for _ in range(1, n):\n",
    "        next_term = \"\"\n",
    "        i = 0\n",
    "        while i < len(current_term):\n",
    "            count = 1\n",
    "            while i + count < len(current_term) and current_term[i] == current_term[i + count]:\n",
    "                count += 1\n",
    "            next_term += f\"{count}{current_term[i]}\"\n",
    "            i += count\n",
    "        current_term = next_term\n",
    "    return current_term"
   ]
  },
  {
   "cell_type": "code",
   "execution_count": 38,
   "id": "502c1378",
   "metadata": {},
   "outputs": [
    {
     "data": {
      "text/plain": [
       "'1211'"
      ]
     },
     "execution_count": 38,
     "metadata": {},
     "output_type": "execute_result"
    }
   ],
   "source": [
    "countAndSay(4)"
   ]
  }
 ],
 "metadata": {
  "kernelspec": {
   "display_name": "base",
   "language": "python",
   "name": "python3"
  },
  "language_info": {
   "codemirror_mode": {
    "name": "ipython",
    "version": 3
   },
   "file_extension": ".py",
   "mimetype": "text/x-python",
   "name": "python",
   "nbconvert_exporter": "python",
   "pygments_lexer": "ipython3",
   "version": "3.11.5"
  }
 },
 "nbformat": 4,
 "nbformat_minor": 5
}
