{
 "cells": [
  {
   "cell_type": "code",
   "execution_count": 46,
   "id": "536afdb3",
   "metadata": {},
   "outputs": [
    {
     "data": {
      "text/plain": [
       "'\\nGiven an array of distinct integers candidates and a target integer target, \\nreturn a list of all unique combinations of candidates where the chosen numbers sum to target. \\nYou may return the combinations in any order.\\nThe same number may be chosen from candidates an unlimited number of times.\\nTwo combinations are unique if the frequency of at least one of the chosen numbers is different.\\nThe test cases are generated such that the number of unique combinations that sum up\\nto target is less than 150 combinations for the given input.\\n\\nExample 1:\\nInput: candidates = [2,3,6,7], target = 7\\nOutput: [[2,2,3],[7]]\\nExplanation:\\n2 and 3 are candidates, and 2 + 2 + 3 = 7. Note that 2 can be used multiple times.\\n7 is a candidate, and 7 = 7.\\nThese are the only two combinations.\\n\\nExample 2:\\nInput: candidates = [2,3,5], target = 8\\nOutput: [[2,2,2,2],[2,3,3],[3,5]]\\n\\nExample 3:\\nInput: candidates = [2], target = 1\\nOutput: []\\n \\n\\nConstraints:\\n1 <= candidates.length <= 30\\n2 <= candidates[i] <= 40\\nAll elements of candidates are distinct.\\n1 <= target <= 40\\n'"
      ]
     },
     "execution_count": 46,
     "metadata": {},
     "output_type": "execute_result"
    }
   ],
   "source": [
    "\"\"\"\n",
    "Given an array of distinct integers candidates and a target integer target, \n",
    "return a list of all unique combinations of candidates where the chosen numbers sum to target. \n",
    "You may return the combinations in any order.\n",
    "The same number may be chosen from candidates an unlimited number of times.\n",
    "Two combinations are unique if the frequency of at least one of the chosen numbers is different.\n",
    "The test cases are generated such that the number of unique combinations that sum up\n",
    "to target is less than 150 combinations for the given input.\n",
    "\n",
    "Example 1:\n",
    "Input: candidates = [2,3,6,7], target = 7\n",
    "Output: [[2,2,3],[7]]\n",
    "Explanation:\n",
    "2 and 3 are candidates, and 2 + 2 + 3 = 7. Note that 2 can be used multiple times.\n",
    "7 is a candidate, and 7 = 7.\n",
    "These are the only two combinations.\n",
    "\n",
    "Example 2:\n",
    "Input: candidates = [2,3,5], target = 8\n",
    "Output: [[2,2,2,2],[2,3,3],[3,5]]\n",
    "\n",
    "Example 3:\n",
    "Input: candidates = [2], target = 1\n",
    "Output: []\n",
    " \n",
    "\n",
    "Constraints:\n",
    "1 <= candidates.length <= 30\n",
    "2 <= candidates[i] <= 40\n",
    "All elements of candidates are distinct.\n",
    "1 <= target <= 40\n",
    "\"\"\""
   ]
  },
  {
   "cell_type": "code",
   "execution_count": 47,
   "id": "662c629f",
   "metadata": {},
   "outputs": [],
   "source": [
    "def combinationSum(candidates, target):\n",
    "    \"\"\"\n",
    "    :type candidates: List[int]\n",
    "    :type target: int\n",
    "    :rtype: List[List[int]]\n",
    "    \"\"\"\n",
    "    solution=[]\n",
    "    def backtracking(list_sum, curr_sum, start):\n",
    "        \n",
    "            if curr_sum > target :\n",
    "                print(f\"{list_sum} is > to target\")\n",
    "                return False\n",
    "            elif curr_sum == target :\n",
    "                print(f\"{list_sum} is = to target\")\n",
    "                solution.append(list_sum)\n",
    "                return True\n",
    "            else:\n",
    "                for i in range(start,len(candidates)):\n",
    "                    backtracking( list_sum + [candidates[i]],curr_sum+candidates[i],i)\n",
    "        \n",
    "    backtracking([],0,0)  \n",
    "    return solution\n",
    "        "
   ]
  },
  {
   "cell_type": "code",
   "execution_count": 48,
   "id": "aa7570dc",
   "metadata": {},
   "outputs": [
    {
     "name": "stdout",
     "output_type": "stream",
     "text": [
      "[2, 2, 2, 2] is > to target\n",
      "[2, 2, 2, 3] is > to target\n",
      "[2, 2, 2, 6] is > to target\n",
      "[2, 2, 2, 7] is > to target\n",
      "[2, 2, 3] is = to target\n",
      "[2, 2, 6] is > to target\n",
      "[2, 2, 7] is > to target\n",
      "[2, 3, 3] is > to target\n",
      "[2, 3, 6] is > to target\n",
      "[2, 3, 7] is > to target\n",
      "[2, 6] is > to target\n",
      "[2, 7] is > to target\n",
      "[3, 3, 3] is > to target\n",
      "[3, 3, 6] is > to target\n",
      "[3, 3, 7] is > to target\n",
      "[3, 6] is > to target\n",
      "[3, 7] is > to target\n",
      "[6, 6] is > to target\n",
      "[6, 7] is > to target\n",
      "[7] is = to target\n"
     ]
    },
    {
     "data": {
      "text/plain": [
       "[[2, 2, 3], [7]]"
      ]
     },
     "execution_count": 48,
     "metadata": {},
     "output_type": "execute_result"
    }
   ],
   "source": [
    "candidates = [2,3,6,7]\n",
    "target = 7\n",
    "combinationSum(candidates, target)"
   ]
  },
  {
   "cell_type": "code",
   "execution_count": 49,
   "id": "febc3a30",
   "metadata": {},
   "outputs": [
    {
     "name": "stdout",
     "output_type": "stream",
     "text": [
      "[2, 2, 2, 2] is = to target\n",
      "[2, 2, 2, 3] is > to target\n",
      "[2, 2, 2, 5] is > to target\n",
      "[2, 2, 3, 3] is > to target\n",
      "[2, 2, 3, 5] is > to target\n",
      "[2, 2, 5] is > to target\n",
      "[2, 3, 3] is = to target\n",
      "[2, 3, 5] is > to target\n",
      "[2, 5, 5] is > to target\n",
      "[3, 3, 3] is > to target\n",
      "[3, 3, 5] is > to target\n",
      "[3, 5] is = to target\n",
      "[5, 5] is > to target\n"
     ]
    },
    {
     "data": {
      "text/plain": [
       "[[2, 2, 2, 2], [2, 3, 3], [3, 5]]"
      ]
     },
     "execution_count": 49,
     "metadata": {},
     "output_type": "execute_result"
    }
   ],
   "source": [
    "candidates = [2,3,5]\n",
    "target = 8\n",
    "combinationSum(candidates, target)"
   ]
  }
 ],
 "metadata": {
  "kernelspec": {
   "display_name": "base",
   "language": "python",
   "name": "python3"
  },
  "language_info": {
   "codemirror_mode": {
    "name": "ipython",
    "version": 3
   },
   "file_extension": ".py",
   "mimetype": "text/x-python",
   "name": "python",
   "nbconvert_exporter": "python",
   "pygments_lexer": "ipython3",
   "version": "3.11.5"
  }
 },
 "nbformat": 4,
 "nbformat_minor": 5
}
