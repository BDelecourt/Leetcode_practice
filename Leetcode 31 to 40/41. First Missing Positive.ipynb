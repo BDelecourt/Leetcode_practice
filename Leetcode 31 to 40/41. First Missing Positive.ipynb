{
 "cells": [
  {
   "cell_type": "code",
   "execution_count": 2,
   "id": "60607068",
   "metadata": {},
   "outputs": [
    {
     "data": {
      "text/plain": [
       "'\\nGiven an unsorted integer array nums. Return the smallest positive integer that is not present in nums.\\nYou must implement an algorithm that runs in O(n) time and uses O(1) auxiliary space.\\n\\nExample 1:\\nInput: nums = [1,2,0]\\nOutput: 3\\nExplanation: The numbers in the range [1,2] are all in the array.\\n\\nExample 2:\\nInput: nums = [3,4,-1,1]\\nOutput: 2\\nExplanation: 1 is in the array but 2 is missing.\\n\\nExample 3:\\nInput: nums = [7,8,9,11,12]\\nOutput: 1\\nExplanation: The smallest positive integer 1 is missing.\\n \\n\\nConstraints:\\n1 <= nums.length <= 105\\n-231 <= nums[i] <= 231 - 1\\n'"
      ]
     },
     "execution_count": 2,
     "metadata": {},
     "output_type": "execute_result"
    }
   ],
   "source": [
    "\"\"\"\n",
    "Given an unsorted integer array nums. Return the smallest positive integer that is not present in nums.\n",
    "You must implement an algorithm that runs in O(n) time and uses O(1) auxiliary space.\n",
    "\n",
    "Example 1:\n",
    "Input: nums = [1,2,0]\n",
    "Output: 3\n",
    "Explanation: The numbers in the range [1,2] are all in the array.\n",
    "\n",
    "Example 2:\n",
    "Input: nums = [3,4,-1,1]\n",
    "Output: 2\n",
    "Explanation: 1 is in the array but 2 is missing.\n",
    "\n",
    "Example 3:\n",
    "Input: nums = [7,8,9,11,12]\n",
    "Output: 1\n",
    "Explanation: The smallest positive integer 1 is missing.\n",
    " \n",
    "\n",
    "Constraints:\n",
    "1 <= nums.length <= 105\n",
    "-231 <= nums[i] <= 231 - 1\n",
    "\"\"\""
   ]
  },
  {
   "cell_type": "code",
   "execution_count": 34,
   "id": "94c2c776",
   "metadata": {},
   "outputs": [],
   "source": [
    "def firstMissingPositive(nums):\n",
    "     \"\"\"\n",
    "     :type nums: List[int]\n",
    "     :rtype: int\n",
    "     \"\"\"\n",
    "     def prepare_array(nums, num):\n",
    "          while 1 <= num <= len(nums):\n",
    "               target = nums[num - 1]\n",
    "               if target == num:\n",
    "                    break\n",
    "               nums[num - 1] = num\n",
    "               if target <= 0 or target > len(nums):\n",
    "                    break\n",
    "               num = target\n",
    "    #browse through the array and prepare it so that each positive integer of the array num is placed at index num-1\n",
    "     for i in range(len(nums)):\n",
    "          if nums[i]<= 0 or nums[i] > len(nums):\n",
    "              continue\n",
    "          elif nums[i]==i+1:\n",
    "             continue\n",
    "          else:\n",
    "             num=nums[i]\n",
    "             nums[i]=0\n",
    "             prepare_array(nums,num)\n",
    "     #go through the array one last time and return the first positive integer that is missing which mean is not at index num-1\n",
    "     for i,num in enumerate(nums):\n",
    "          if num!=i+1:\n",
    "               return i+1\n",
    "     return len(nums)+1"
   ]
  },
  {
   "cell_type": "code",
   "execution_count": null,
   "id": "89b47ce8",
   "metadata": {},
   "outputs": [
    {
     "name": "stdout",
     "output_type": "stream",
     "text": [
      "4\n",
      "2\n",
      "1\n"
     ]
    }
   ],
   "source": [
    "nums = [1,2,3]\n",
    "print(firstMissingPositive(nums)) #expect 4\n",
    "nums = [3,4,-1,1]\n",
    "print(firstMissingPositive(nums)) #expect 2\n",
    "nums = [7,8,9,11,12]\n",
    "print(firstMissingPositive(nums)) #expect 1"
   ]
  }
 ],
 "metadata": {
  "kernelspec": {
   "display_name": "base",
   "language": "python",
   "name": "python3"
  },
  "language_info": {
   "codemirror_mode": {
    "name": "ipython",
    "version": 3
   },
   "file_extension": ".py",
   "mimetype": "text/x-python",
   "name": "python",
   "nbconvert_exporter": "python",
   "pygments_lexer": "ipython3",
   "version": "3.11.5"
  }
 },
 "nbformat": 4,
 "nbformat_minor": 5
}
