{
 "cells": [
  {
   "cell_type": "code",
   "execution_count": null,
   "metadata": {},
   "outputs": [
    {
     "data": {
      "text/plain": [
       "'\\nYou are given the heads of two sorted linked lists list1 and list2.\\nMerge the two lists into one sorted list. The list should be made by splicing together the nodes of the first two lists.\\nReturn the head of the merged linked list.\"\\n\"\\nExample 1:\\nInput: list1 = [1,2,4], list2 = [1,3,4]\\nOutput: [1,1,2,3,4,4]\"\\n\"\\nExample 2:\\nInput: list1 = [], list2 = []\\nOutput: []\"\\n\"\\nExample 3:\\nInput: list1 = [], list2 = [0]\\nOutput: [0]\\n \\nConstraints:\\nThe number of nodes in both lists is in the range [0, 50].\\n-100 <= Node.val <= 100\\nBoth list1 and list2 are sorted in non-decreasing order.\"\\n'"
      ]
     },
     "execution_count": 1,
     "metadata": {},
     "output_type": "execute_result"
    }
   ],
   "source": [
    "\"\"\"\n",
    "You are given the heads of two sorted linked lists list1 and list2.\n",
    "Merge the two lists into one sorted list. The list should be made by splicing together \n",
    "the nodes of the first two lists.\n",
    "Return the head of the merged linked list.\"\n",
    "\"\n",
    "Example 1:\n",
    "Input: list1 = [1,2,4], list2 = [1,3,4]\n",
    "Output: [1,1,2,3,4,4]\"\n",
    "\"\n",
    "Example 2:\n",
    "Input: list1 = [], list2 = []\n",
    "Output: []\"\n",
    "\"\n",
    "Example 3:\n",
    "Input: list1 = [], list2 = [0]\n",
    "Output: [0]\n",
    " \n",
    "Constraints:\n",
    "The number of nodes in both lists is in the range [0, 50].\n",
    "-100 <= Node.val <= 100\n",
    "Both list1 and list2 are sorted in non-decreasing order.\"\n",
    "\"\"\""
   ]
  },
  {
   "cell_type": "code",
   "execution_count": null,
   "metadata": {},
   "outputs": [],
   "source": [
    "# Definition for singly-linked list.\n",
    "class ListNode(object):\n",
    "    def __init__(self, val=0, next=None):\n",
    "        self.val = val\n",
    "        self.next = next\n",
    "def create_linked_list(values):\n",
    "    head = ListNode()\n",
    "    current = head\n",
    "    for value in values:\n",
    "        current.next = ListNode(value)\n",
    "        current = current.next\n",
    "    return head.next\n",
    "\n",
    "def print_linked_list(head):\n",
    "    current = head\n",
    "    while current:\n",
    "        print(current.val, end=\" -> \")\n",
    "        current = current.next\n",
    "    print(\"None\")"
   ]
  },
  {
   "cell_type": "code",
   "execution_count": 26,
   "metadata": {},
   "outputs": [],
   "source": [
    "\n",
    "def mergeTwoLists(list1, list2):\n",
    "    \"\"\"\n",
    "    :type list1: Optional[ListNode]\n",
    "    :type list2: Optional[ListNode]\n",
    "    :rtype: Optional[ListNode]\n",
    "    \"\"\"\n",
    "    head=ListNode()\n",
    "    merged_list=head\n",
    "    while list1 and list2:\n",
    "        if list1.val>=list2.val:\n",
    "            merged_list.next=list2\n",
    "            list2=list2.next\n",
    "        else:\n",
    "            merged_list.next=list1\n",
    "            list1=list1.next\n",
    "        merged_list=merged_list.next\n",
    "    merged_list.next=list1 if list1 else list2\n",
    "    return head.next"
   ]
  },
  {
   "cell_type": "code",
   "execution_count": 27,
   "metadata": {},
   "outputs": [
    {
     "name": "stdout",
     "output_type": "stream",
     "text": [
      "1 -> 2 -> 4 -> None\n",
      "1 -> 3 -> 4 -> None\n",
      "1 -> 1 -> 2 -> 3 -> 4 -> 4 -> None\n"
     ]
    }
   ],
   "source": [
    "list1 = create_linked_list([1,2,4])\n",
    "list2 = create_linked_list([1,3,4])\n",
    "print_linked_list(list1)\n",
    "print_linked_list(list2)\n",
    "print_linked_list(mergeTwoLists(list1, list2))"
   ]
  },
  {
   "cell_type": "code",
   "execution_count": 28,
   "metadata": {},
   "outputs": [
    {
     "name": "stdout",
     "output_type": "stream",
     "text": [
      "None\n",
      "None\n",
      "None\n"
     ]
    }
   ],
   "source": [
    "list1 = create_linked_list([])\n",
    "list2 = create_linked_list([])\n",
    "print_linked_list(list1)\n",
    "print_linked_list(list2)\n",
    "print_linked_list(mergeTwoLists(list1, list2))"
   ]
  },
  {
   "cell_type": "code",
   "execution_count": 29,
   "metadata": {},
   "outputs": [
    {
     "name": "stdout",
     "output_type": "stream",
     "text": [
      "None\n",
      "0 -> None\n",
      "0 -> None\n"
     ]
    }
   ],
   "source": [
    "list1 = create_linked_list([])\n",
    "list2 = create_linked_list([0])\n",
    "print_linked_list(list1)\n",
    "print_linked_list(list2)\n",
    "print_linked_list(mergeTwoLists(list1, list2))"
   ]
  }
 ],
 "metadata": {
  "kernelspec": {
   "display_name": "base",
   "language": "python",
   "name": "python3"
  },
  "language_info": {
   "codemirror_mode": {
    "name": "ipython",
    "version": 3
   },
   "file_extension": ".py",
   "mimetype": "text/x-python",
   "name": "python",
   "nbconvert_exporter": "python",
   "pygments_lexer": "ipython3",
   "version": "3.11.5"
  }
 },
 "nbformat": 4,
 "nbformat_minor": 2
}
