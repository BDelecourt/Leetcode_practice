{
 "cells": [
  {
   "cell_type": "code",
   "execution_count": null,
   "id": "50911249",
   "metadata": {},
   "outputs": [],
   "source": [
    "\"\"\"\n",
    "Given a sorted array of distinct integers and a target value, return the index if the target is found.\n",
    "If not, return the index where it would be if it were inserted in order.\n",
    "You must write an algorithm with O(log n) runtime complexity.\n",
    "\n",
    "Example 1:\n",
    "Input: nums = [1,3,5,6], target = 5\n",
    "Output: 2\n",
    "\n",
    "Example 2:\n",
    "Input: nums = [1,3,5,6], target = 2\n",
    "Output: 1\n",
    "\n",
    "Example 3:\n",
    "Input: nums = [1,3,5,6], target = 7\n",
    "Output: 4\n",
    "\n",
    "Constraints:\n",
    "1 <= nums.length <= 104\n",
    "-104 <= nums[i] <= 104\n",
    "nums contains distinct values sorted in ascending order.\n",
    "-104 <= target <= 104\n",
    "\"\"\""
   ]
  },
  {
   "cell_type": "code",
   "execution_count": 2,
   "id": "a62ccadd",
   "metadata": {},
   "outputs": [],
   "source": [
    "def searchInsert(nums, target):\n",
    "    \"\"\"\n",
    "    :type nums: List[int]\n",
    "    :type target: int\n",
    "    :rtype: int\n",
    "    \"\"\"\n",
    "    left,right=0,len(nums)-1\n",
    "    while left<right:\n",
    "        mid=left+right//2\n",
    "        if nums[mid]==target:\n",
    "            return mid\n",
    "        elif nums[mid]<target:\n",
    "            left=mid+1\n",
    "        else :\n",
    "            right=mid-1\n",
    "    if nums[right]<target:\n",
    "        return right+1\n",
    "    else:\n",
    "        return right-1"
   ]
  },
  {
   "cell_type": "code",
   "execution_count": 3,
   "id": "23d716d5",
   "metadata": {},
   "outputs": [
    {
     "data": {
      "text/plain": [
       "4"
      ]
     },
     "execution_count": 3,
     "metadata": {},
     "output_type": "execute_result"
    }
   ],
   "source": [
    "nums = [1,3,5,6]\n",
    "target = 7\n",
    "searchInsert(nums,target)"
   ]
  },
  {
   "cell_type": "code",
   "execution_count": 4,
   "id": "8c52c9fe",
   "metadata": {},
   "outputs": [
    {
     "data": {
      "text/plain": [
       "1"
      ]
     },
     "execution_count": 4,
     "metadata": {},
     "output_type": "execute_result"
    }
   ],
   "source": [
    "nums = [1,3,5,6]\n",
    "target = 2\n",
    "searchInsert(nums,target)"
   ]
  }
 ],
 "metadata": {
  "kernelspec": {
   "display_name": "base",
   "language": "python",
   "name": "python3"
  },
  "language_info": {
   "codemirror_mode": {
    "name": "ipython",
    "version": 3
   },
   "file_extension": ".py",
   "mimetype": "text/x-python",
   "name": "python",
   "nbconvert_exporter": "python",
   "pygments_lexer": "ipython3",
   "version": "3.11.5"
  }
 },
 "nbformat": 4,
 "nbformat_minor": 5
}
