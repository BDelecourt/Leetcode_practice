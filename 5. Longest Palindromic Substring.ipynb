{
 "cells": [
  {
   "cell_type": "code",
   "execution_count": null,
   "metadata": {},
   "outputs": [],
   "source": [
    "\"\"\"\n",
    "5. Longest Palindromic Substring\n",
    "\n",
    "Given a string s, return the longest palindromic substring in s.\n",
    "\n",
    "Example 1:\n",
    "Input: s = \"babad\"\n",
    "Output: \"bab\"\n",
    "Explanation: \"aba\" is also a valid answer.\n",
    "\n",
    "Example 2:\n",
    "Input: s = \"cbbd\"\n",
    "Output: \"bb\"\n",
    " \n",
    "\n",
    "Constraints:\n",
    "1 <= s.length <= 1000\n",
    "s consist of only digits and English letters.\n",
    "\n",
    "\"\"\""
   ]
  },
  {
   "cell_type": "code",
   "execution_count": 19,
   "metadata": {},
   "outputs": [],
   "source": [
    "def longestPalindrome(s):\n",
    "    \"\"\"\n",
    "    :type s: str\n",
    "    :rtype: str\n",
    "    \"\"\"\n",
    "    lenght, longest_palin=0,\"\"\n",
    "    s=list(s)\n",
    "    n=len(s)\n",
    "    palin=[]\n",
    "    for index in range(2*n):\n",
    "        i=index/2\n",
    "        if index%2==0:\n",
    "            start,end=int(i)-1,int(i)+1\n",
    "            palin.append(s[int(i)])\n",
    "        else:\n",
    "            start,end=int(i),int(i)+1\n",
    "        while start>0 and end<(n-1) and s[start]==s[end]:\n",
    "            palin.append(s[end])\n",
    "            palin.insert(0,s[start])\n",
    "            print(palin)\n",
    "            start-=1\n",
    "            end+=1\n",
    "        if len(palin)>lenght:\n",
    "            lenght=len(palin)\n",
    "            longest_palin=str(palin)\n",
    "        palin=[]\n",
    "    return longest_palin"
   ]
  },
  {
   "cell_type": "code",
   "execution_count": 21,
   "metadata": {},
   "outputs": [
    {
     "name": "stdout",
     "output_type": "stream",
     "text": [
      "['b', 'b']\n",
      "longest_palindrome is : ['b', 'b']\n"
     ]
    }
   ],
   "source": [
    "s = \"cbbad\"\n",
    "results=longestPalindrome(s)\n",
    "print(f\"longest_palindrome is : {results}\")"
   ]
  }
 ],
 "metadata": {
  "kernelspec": {
   "display_name": "base",
   "language": "python",
   "name": "python3"
  },
  "language_info": {
   "codemirror_mode": {
    "name": "ipython",
    "version": 3
   },
   "file_extension": ".py",
   "mimetype": "text/x-python",
   "name": "python",
   "nbconvert_exporter": "python",
   "pygments_lexer": "ipython3",
   "version": "3.11.5"
  }
 },
 "nbformat": 4,
 "nbformat_minor": 2
}
