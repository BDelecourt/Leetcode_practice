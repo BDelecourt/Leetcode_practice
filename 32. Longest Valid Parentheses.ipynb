{
 "cells": [
  {
   "cell_type": "code",
   "execution_count": 23,
   "id": "a2de6da6",
   "metadata": {},
   "outputs": [
    {
     "data": {
      "text/plain": [
       "'\\nGiven a string containing just the characters \\'(\\' and \\')\\', \\nreturn the length of the longest valid (well-formed) parentheses substring.\\n\\nExample 1:\\nInput: s = \"(()\"\\nOutput: 2\\nExplanation: The longest valid parentheses substring is \"()\".\\n\\nExample 2:\\nInput: s = \")()())\"\\nOutput: 4\\nExplanation: The longest valid parentheses substring is \"()()\".\\n\\nExample 3:\\nInput: s = \"\"\\nOutput: 0\\n\\nConstraints:\\n0 <= s.length <= 3 * 104\\ns[i] is \\'(\\', or \\')\\'.\\n'"
      ]
     },
     "execution_count": 23,
     "metadata": {},
     "output_type": "execute_result"
    }
   ],
   "source": [
    "\"\"\"\n",
    "Given a string containing just the characters '(' and ')', \n",
    "return the length of the longest valid (well-formed) parentheses substring.\n",
    "\n",
    "Example 1:\n",
    "Input: s = \"(()\"\n",
    "Output: 2\n",
    "Explanation: The longest valid parentheses substring is \"()\".\n",
    "\n",
    "Example 2:\n",
    "Input: s = \")()())\"\n",
    "Output: 4\n",
    "Explanation: The longest valid parentheses substring is \"()()\".\n",
    "\n",
    "Example 3:\n",
    "Input: s = \"\"\n",
    "Output: 0\n",
    "\n",
    "Constraints:\n",
    "0 <= s.length <= 3 * 104\n",
    "s[i] is '(', or ')'.\n",
    "\"\"\""
   ]
  },
  {
   "cell_type": "code",
   "execution_count": 24,
   "id": "953d6b97",
   "metadata": {},
   "outputs": [],
   "source": [
    "def longestValidParentheses(s):\n",
    "    max_length = 0\n",
    "    open_count = 0\n",
    "    close_count = 0\n",
    "\n",
    "    # Left to right\n",
    "    for char in s:\n",
    "        if char == '(':\n",
    "            open_count += 1\n",
    "        else:\n",
    "            close_count += 1\n",
    "        if open_count == close_count:\n",
    "            max_length = max(max_length, 2 * close_count)\n",
    "        elif close_count > open_count:\n",
    "            open_count = close_count = 0\n",
    "\n",
    "    # Reset counters\n",
    "    open_count = close_count = 0\n",
    "\n",
    "    # Right to left\n",
    "    for char in reversed(s):\n",
    "        if char == ')':\n",
    "            close_count += 1\n",
    "        else:\n",
    "            open_count += 1\n",
    "        if open_count == close_count:\n",
    "            max_length = max(max_length, 2 * open_count)\n",
    "        elif open_count > close_count:\n",
    "            open_count = close_count = 0\n",
    "\n",
    "    return max_length"
   ]
  },
  {
   "cell_type": "code",
   "execution_count": 25,
   "id": "44257f1d",
   "metadata": {},
   "outputs": [
    {
     "data": {
      "text/plain": [
       "4"
      ]
     },
     "execution_count": 25,
     "metadata": {},
     "output_type": "execute_result"
    }
   ],
   "source": [
    "s = \")()())\"\n",
    "longestValidParentheses(s)"
   ]
  },
  {
   "cell_type": "code",
   "execution_count": 26,
   "id": "b3982237",
   "metadata": {},
   "outputs": [
    {
     "data": {
      "text/plain": [
       "2"
      ]
     },
     "execution_count": 26,
     "metadata": {},
     "output_type": "execute_result"
    }
   ],
   "source": [
    "s=\"(()\"\n",
    "longestValidParentheses(s)"
   ]
  },
  {
   "cell_type": "code",
   "execution_count": 27,
   "id": "d1460750",
   "metadata": {},
   "outputs": [
    {
     "data": {
      "text/plain": [
       "0"
      ]
     },
     "execution_count": 27,
     "metadata": {},
     "output_type": "execute_result"
    }
   ],
   "source": [
    "s=\"\"\n",
    "longestValidParentheses(s)"
   ]
  },
  {
   "cell_type": "code",
   "execution_count": 28,
   "id": "77a6b3c8",
   "metadata": {},
   "outputs": [
    {
     "data": {
      "text/plain": [
       "2"
      ]
     },
     "execution_count": 28,
     "metadata": {},
     "output_type": "execute_result"
    }
   ],
   "source": [
    "s = \"())()(()\"\n",
    "longestValidParentheses(s)"
   ]
  }
 ],
 "metadata": {
  "kernelspec": {
   "display_name": "base",
   "language": "python",
   "name": "python3"
  },
  "language_info": {
   "codemirror_mode": {
    "name": "ipython",
    "version": 3
   },
   "file_extension": ".py",
   "mimetype": "text/x-python",
   "name": "python",
   "nbconvert_exporter": "python",
   "pygments_lexer": "ipython3",
   "version": "3.11.5"
  }
 },
 "nbformat": 4,
 "nbformat_minor": 5
}
