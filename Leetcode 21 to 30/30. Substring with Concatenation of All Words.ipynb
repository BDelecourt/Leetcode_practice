{
 "cells": [
  {
   "cell_type": "code",
   "execution_count": 105,
   "id": "537087af",
   "metadata": {},
   "outputs": [
    {
     "data": {
      "text/plain": [
       "'\\nYou are given a string s and an array of strings words. All the strings of words are of the same length.\\nA concatenated string is a string that exactly contains all the strings of any permutation of words concatenated.\\nFor example, if words = [\"ab\",\"cd\",\"ef\"], \\nthen \"abcdef\", \"abefcd\", \"cdabef\", \"cdefab\", \"efabcd\", and \"efcdab\" are all concatenated strings. \\n\"acdbef\" is not a concatenated string because it is not the concatenation of any permutation of words.\\nReturn an array of the starting indices of all the concatenated substrings in s. You can return the answer in any order.\\n\\nExample 1:\\nInput: s = \"barfoothefoobarman\", words = [\"foo\",\"bar\"]\\nOutput: [0,9]\\nExplanation:\\nThe substring starting at 0 is \"barfoo\". It is the concatenation of [\"bar\",\"foo\"] which is a permutation of words.\\nThe substring starting at 9 is \"foobar\". It is the concatenation of [\"foo\",\"bar\"] which is a permutation of words.\\n\\nExample 2:\\nInput: s = \"wordgoodgoodgoodbestword\", words = [\"word\",\"good\",\"best\",\"word\"]\\nOutput: []\\nExplanation: There is no concatenated substring.\\n\\nExample 3:\\nInput: s = \"barfoofoobarthefoobarman\", words = [\"bar\",\"foo\",\"the\"]\\nOutput: [6,9,12]\\nExplanation:\\nThe substring starting at 6 is \"foobarthe\". It is the concatenation of [\"foo\",\"bar\",\"the\"].\\nThe substring starting at 9 is \"barthefoo\". It is the concatenation of [\"bar\",\"the\",\"foo\"].\\nThe substring starting at 12 is \"thefoobar\". It is the concatenation of [\"the\",\"foo\",\"bar\"].\\n\\n \\n\\nConstraints:\\n1 <= s.length <= 104\\n1 <= words.length <= 5000\\n1 <= words[i].length <= 30\\ns and words[i] consist of lowercase English letters.\\n'"
      ]
     },
     "execution_count": 105,
     "metadata": {},
     "output_type": "execute_result"
    }
   ],
   "source": [
    "\"\"\"\n",
    "You are given a string s and an array of strings words. All the strings of words are of the same length.\n",
    "A concatenated string is a string that exactly contains all the strings of any permutation of words concatenated.\n",
    "For example, if words = [\"ab\",\"cd\",\"ef\"], \n",
    "then \"abcdef\", \"abefcd\", \"cdabef\", \"cdefab\", \"efabcd\", and \"efcdab\" are all concatenated strings. \n",
    "\"acdbef\" is not a concatenated string because it is not the concatenation of any permutation of words.\n",
    "Return an array of the starting indices of all the concatenated substrings in s. You can return the answer in any order.\n",
    "\n",
    "Example 1:\n",
    "Input: s = \"barfoothefoobarman\", words = [\"foo\",\"bar\"]\n",
    "Output: [0,9]\n",
    "Explanation:\n",
    "The substring starting at 0 is \"barfoo\". It is the concatenation of [\"bar\",\"foo\"] which is a permutation of words.\n",
    "The substring starting at 9 is \"foobar\". It is the concatenation of [\"foo\",\"bar\"] which is a permutation of words.\n",
    "\n",
    "Example 2:\n",
    "Input: s = \"wordgoodgoodgoodbestword\", words = [\"word\",\"good\",\"best\",\"word\"]\n",
    "Output: []\n",
    "Explanation: There is no concatenated substring.\n",
    "\n",
    "Example 3:\n",
    "Input: s = \"barfoofoobarthefoobarman\", words = [\"bar\",\"foo\",\"the\"]\n",
    "Output: [6,9,12]\n",
    "Explanation:\n",
    "The substring starting at 6 is \"foobarthe\". It is the concatenation of [\"foo\",\"bar\",\"the\"].\n",
    "The substring starting at 9 is \"barthefoo\". It is the concatenation of [\"bar\",\"the\",\"foo\"].\n",
    "The substring starting at 12 is \"thefoobar\". It is the concatenation of [\"the\",\"foo\",\"bar\"].\n",
    "\n",
    " \n",
    "\n",
    "Constraints:\n",
    "1 <= s.length <= 104\n",
    "1 <= words.length <= 5000\n",
    "1 <= words[i].length <= 30\n",
    "s and words[i] consist of lowercase English letters.\n",
    "\"\"\""
   ]
  },
  {
   "cell_type": "code",
   "execution_count": 106,
   "id": "cb73b1a3",
   "metadata": {},
   "outputs": [],
   "source": [
    "def findSubstring(s,words):\n",
    "    nb_words=len(words)\n",
    "    len_words=len(words[0])\n",
    "    substring_indices=[]\n",
    "    freq_words={}\n",
    "\n",
    "    for word in words:\n",
    "        freq_words[word]=1+freq_words.get(word,0)\n",
    "\n",
    "    for i in range(0,len(s)-len_words*nb_words+1):\n",
    "        sliding_window=[s[k:k+len_words] for k in range(i,i+nb_words*len_words,len_words)]\n",
    "        freq_chunk={}\n",
    "        valid_substring=True\n",
    "        for chunk in sliding_window:\n",
    "            if chunk not in freq_words:\n",
    "                valid_substring=False\n",
    "                break\n",
    "            else:\n",
    "                freq_chunk[chunk]=1+freq_chunk.get(chunk,0)\n",
    "            if freq_chunk[chunk]>freq_words[chunk]:\n",
    "                valid_substring=False\n",
    "                break\n",
    "        if valid_substring:\n",
    "            substring_indices.append(i)\n",
    "    return substring_indices"
   ]
  },
  {
   "cell_type": "code",
   "execution_count": 107,
   "id": "c9fa9744",
   "metadata": {},
   "outputs": [
    {
     "name": "stdout",
     "output_type": "stream",
     "text": [
      "[0, 9]\n"
     ]
    }
   ],
   "source": [
    "s = \"barfoothefoobarman\"\n",
    "words = [\"foo\",\"bar\"]\n",
    "print(findSubstring(s,words))"
   ]
  },
  {
   "cell_type": "code",
   "execution_count": 108,
   "id": "32c92253",
   "metadata": {},
   "outputs": [
    {
     "name": "stdout",
     "output_type": "stream",
     "text": [
      "[]\n"
     ]
    }
   ],
   "source": [
    "s = \"wordgoodgoodgoodbestword\"\n",
    "words = [\"word\",\"good\",\"best\",\"word\"]\n",
    "print(findSubstring(s,words))"
   ]
  },
  {
   "cell_type": "code",
   "execution_count": 109,
   "id": "cc9d75e8",
   "metadata": {},
   "outputs": [
    {
     "name": "stdout",
     "output_type": "stream",
     "text": [
      "[6, 9, 12]\n"
     ]
    }
   ],
   "source": [
    "s = \"barfoofoobarthefoobarman\"\n",
    "words = [\"bar\",\"foo\",\"the\"]\n",
    "print(findSubstring(s,words))"
   ]
  }
 ],
 "metadata": {
  "kernelspec": {
   "display_name": "base",
   "language": "python",
   "name": "python3"
  },
  "language_info": {
   "codemirror_mode": {
    "name": "ipython",
    "version": 3
   },
   "file_extension": ".py",
   "mimetype": "text/x-python",
   "name": "python",
   "nbconvert_exporter": "python",
   "pygments_lexer": "ipython3",
   "version": "3.11.5"
  }
 },
 "nbformat": 4,
 "nbformat_minor": 5
}
