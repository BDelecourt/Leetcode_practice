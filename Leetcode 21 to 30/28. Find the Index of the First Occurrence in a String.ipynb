{
 "cells": [
  {
   "cell_type": "code",
   "execution_count": 14,
   "id": "4cd7978a",
   "metadata": {},
   "outputs": [
    {
     "data": {
      "text/plain": [
       "'\\nGiven two strings needle and haystack, return the index of the first occurrence of needle in haystack, or -1 if needle is not part of haystack.\\n\\nExample 1:\\nInput: haystack = \"sadbutsad\", needle = \"sad\"\\nOutput: 0\\nExplanation: \"sad\" occurs at index 0 and 6.\\nThe first occurrence is at index 0, so we return 0.\\n\\nExample 2:\\nInput: haystack = \"leetcode\", needle = \"leeto\"\\nOutput: -1\\nExplanation: \"leeto\" did not occur in \"leetcode\", so we return -1.\\n \\nConstraints:\\n1 <= haystack.length, needle.length <= 104\\nhaystack and needle consist of only lowercase English characters.\\n'"
      ]
     },
     "execution_count": 14,
     "metadata": {},
     "output_type": "execute_result"
    }
   ],
   "source": [
    "\"\"\"\n",
    "Given two strings needle and haystack, return the index of the first occurrence of needle in haystack, or -1 if needle is not part of haystack.\n",
    "\n",
    "Example 1:\n",
    "Input: haystack = \"sadbutsad\", needle = \"sad\"\n",
    "Output: 0\n",
    "Explanation: \"sad\" occurs at index 0 and 6.\n",
    "The first occurrence is at index 0, so we return 0.\n",
    "\n",
    "Example 2:\n",
    "Input: haystack = \"leetcode\", needle = \"leeto\"\n",
    "Output: -1\n",
    "Explanation: \"leeto\" did not occur in \"leetcode\", so we return -1.\n",
    " \n",
    "Constraints:\n",
    "1 <= haystack.length, needle.length <= 104\n",
    "haystack and needle consist of only lowercase English characters.\n",
    "\"\"\""
   ]
  },
  {
   "cell_type": "code",
   "execution_count": 15,
   "id": "0615602a",
   "metadata": {},
   "outputs": [],
   "source": [
    "def strStr(haystack, needle):\n",
    "    for  i in range(0,len(haystack)-len(needle)+1,len(needle)):\n",
    "        if haystack[i:i+len(needle)]==needle:\n",
    "            return i\n",
    "    return -1\n"
   ]
  },
  {
   "cell_type": "code",
   "execution_count": 16,
   "id": "0cb413de",
   "metadata": {},
   "outputs": [
    {
     "name": "stdout",
     "output_type": "stream",
     "text": [
      "0\n"
     ]
    }
   ],
   "source": [
    "haystack = \"sadbutsad\"\n",
    "needle = \"sad\"\n",
    "print(strStr(haystack,needle))"
   ]
  },
  {
   "cell_type": "code",
   "execution_count": 17,
   "id": "e8996b19",
   "metadata": {},
   "outputs": [
    {
     "name": "stdout",
     "output_type": "stream",
     "text": [
      "-1\n"
     ]
    }
   ],
   "source": [
    "haystack = \"leetcode\"\n",
    "needle = \"leeto\"\n",
    "print(strStr(haystack,needle))"
   ]
  },
  {
   "cell_type": "code",
   "execution_count": 18,
   "id": "9365c7e8",
   "metadata": {},
   "outputs": [
    {
     "name": "stdout",
     "output_type": "stream",
     "text": [
      "6\n"
     ]
    }
   ],
   "source": [
    "haystack = \"leetcode\"\n",
    "needle = \"de\"\n",
    "print(strStr(haystack,needle))"
   ]
  }
 ],
 "metadata": {
  "kernelspec": {
   "display_name": "base",
   "language": "python",
   "name": "python3"
  },
  "language_info": {
   "codemirror_mode": {
    "name": "ipython",
    "version": 3
   },
   "file_extension": ".py",
   "mimetype": "text/x-python",
   "name": "python",
   "nbconvert_exporter": "python",
   "pygments_lexer": "ipython3",
   "version": "3.11.5"
  }
 },
 "nbformat": 4,
 "nbformat_minor": 5
}
