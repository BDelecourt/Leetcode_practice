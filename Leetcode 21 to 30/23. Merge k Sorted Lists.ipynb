{
 "cells": [
  {
   "cell_type": "code",
   "execution_count": null,
   "metadata": {},
   "outputs": [],
   "source": [
    "\"\"\"\n",
    "You are given an array of k linked-lists lists, each linked-list is sorted in ascending order.\n",
    "Merge all the linked-lists into one sorted linked-list and return it.\n",
    "\n",
    "Example 1:\n",
    "Input: lists = [[1,4,5],[1,3,4],[2,6]]\n",
    "Output: [1,1,2,3,4,4,5,6]\n",
    "Explanation: The linked-lists are:\n",
    "[\n",
    "  1->4->5,\n",
    "  1->3->4,\n",
    "  2->6\n",
    "]\n",
    "merging them into one sorted list:\n",
    "1->1->2->3->4->4->5->6\n",
    "\n",
    "Example 2:\n",
    "Input: lists = []\n",
    "Output: []\n",
    "\n",
    "Example 3:\n",
    "Input: lists = [[]]\n",
    "Output: []\n",
    "\n",
    "Constraints:\n",
    "k == lists.length\n",
    "0 <= k <= 104\n",
    "0 <= lists[i].length <= 500\n",
    "-104 <= lists[i][j] <= 104\n",
    "lists[i] is sorted in ascending order.\n",
    "The sum of lists[i].length will not exceed 104.\n",
    "\"\"\""
   ]
  },
  {
   "cell_type": "code",
   "execution_count": 1,
   "metadata": {},
   "outputs": [],
   "source": [
    "# Definition for singly-linked list.\n",
    "class ListNode(object):\n",
    "    def __init__(self, val=0, next=None):\n",
    "        self.val = val\n",
    "        self.next = next\n"
   ]
  },
  {
   "cell_type": "code",
   "execution_count": 3,
   "metadata": {},
   "outputs": [],
   "source": [
    "def mergeKLists(lists):\n",
    "    \"\"\"\n",
    "    :type lists: List[Optional[ListNode]]\n",
    "    :rtype: Optional[ListNode]\n",
    "    \"\"\"\n",
    "    if not lists:\n",
    "        return None\n",
    "    if len(lists) == 1:\n",
    "        return lists[0]\n",
    "\n",
    "    def merge_two_lists(list1, list2):\n",
    "        head = ListNode()\n",
    "        merged_list = head\n",
    "        while list1 and list2:\n",
    "            if list1.val <= list2.val:\n",
    "                merged_list.next = list1\n",
    "                list1 = list1.next\n",
    "            else:\n",
    "                merged_list.next = list2\n",
    "                list2 = list2.next\n",
    "            merged_list = merged_list.next\n",
    "        merged_list.next = list1 if list1 else list2\n",
    "        return head.next\n",
    "\n",
    "    # Recursively merge lists in pairs\n",
    "    while len(lists) > 1:\n",
    "        new_lists = []\n",
    "        for i in range(0, len(lists), 2):\n",
    "            list1 = lists[i]\n",
    "            list2 = lists[i+1] if i + 1 < len(lists) else None\n",
    "            new_lists.append(merge_two_lists(list1, list2))\n",
    "        lists = new_lists\n",
    "\n",
    "    return lists[0]"
   ]
  },
  {
   "cell_type": "code",
   "execution_count": null,
   "metadata": {},
   "outputs": [],
   "source": []
  }
 ],
 "metadata": {
  "kernelspec": {
   "display_name": "base",
   "language": "python",
   "name": "python3"
  },
  "language_info": {
   "codemirror_mode": {
    "name": "ipython",
    "version": 3
   },
   "file_extension": ".py",
   "mimetype": "text/x-python",
   "name": "python",
   "nbconvert_exporter": "python",
   "pygments_lexer": "ipython3",
   "version": "3.11.5"
  }
 },
 "nbformat": 4,
 "nbformat_minor": 2
}
