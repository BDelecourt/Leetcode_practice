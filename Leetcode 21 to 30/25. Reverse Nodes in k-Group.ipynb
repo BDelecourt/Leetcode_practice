{
 "cells": [
  {
   "cell_type": "code",
   "execution_count": null,
   "id": "f213a74d",
   "metadata": {},
   "outputs": [],
   "source": [
    "\"\"\"\n",
    "Given the head of a linked list, reverse the nodes of the list k at a time, and return the modified list.\n",
    "k is a positive integer and is less than or equal to the length of the linked list. \n",
    "If the number of nodes is not a multiple of k then left-out nodes, in the end, should remain as it is.\n",
    "You may not alter the values in the list's nodes, only nodes themselves may be changed.\n",
    "\n",
    "Example 1:\n",
    "Input: head = [1,2,3,4,5], k = 2\n",
    "Output: [2,1,4,3,5]\n",
    "\n",
    "Example 2:\n",
    "Input: head = [1,2,3,4,5], k = 3\n",
    "Output: [3,2,1,4,5]\n",
    " \n",
    "\n",
    "Constraints:\n",
    "The number of nodes in the list is n.\n",
    "1 <= k <= n <= 5000\n",
    "0 <= Node.val <= 1000\n",
    " \n",
    "\n",
    "Follow-up: Can you solve the problem in O(1) extra memory space?\n",
    "\"\"\""
   ]
  },
  {
   "cell_type": "code",
   "execution_count": 20,
   "id": "494c0940",
   "metadata": {},
   "outputs": [],
   "source": [
    "# Definition for singly-linked list.\n",
    "class ListNode(object):\n",
    "    def __init__(self, val=0, next=None):\n",
    "        self.val = val\n",
    "        self.next = next\n",
    "    def create_linked_list(values):\n",
    "        head = ListNode()\n",
    "        current = head\n",
    "        for value in values:\n",
    "            current.next = ListNode(value)\n",
    "            current = current.next\n",
    "        return head.next\n",
    "\n",
    "    def print_linked_list(head):\n",
    "        current = head\n",
    "        while current:\n",
    "            print(current.val, end=\" -> \")\n",
    "            current = current.next\n",
    "        print(\"None\")"
   ]
  },
  {
   "cell_type": "code",
   "execution_count": 44,
   "id": "9cd824b3",
   "metadata": {},
   "outputs": [],
   "source": [
    "def reverseKGroup(head, k):\n",
    "    \"\"\"\n",
    "    :type head: Optional[ListNode]\n",
    "    :type k: int\n",
    "    :rtype: Optional[ListNode]\n",
    "    \"\"\"\n",
    "    dummy=ListNode(0,head)\n",
    "    prev,last=dummy,head\n",
    "    list_nodes=[]\n",
    "    while last :\n",
    "        for _ in range(k):\n",
    "            if last:\n",
    "                if last.next:\n",
    "                    print(f\"last {last.val}->{last.next.val}\")\n",
    "                else: print(f\"last {last.val}->{None}\")\n",
    "                list_nodes.append(last)\n",
    "                last=last.next\n",
    "            else:\n",
    "                return dummy.next\n",
    "        for i in range(k):\n",
    "            prev.next=list_nodes[k-1-i]\n",
    "            prev=prev.next\n",
    "            print(prev.val,prev.next)\n",
    "        prev.next=last\n",
    "    return dummy.next"
   ]
  },
  {
   "cell_type": "code",
   "execution_count": 45,
   "id": "6eda77a3",
   "metadata": {},
   "outputs": [
    {
     "name": "stdout",
     "output_type": "stream",
     "text": [
      "last 1->2\n",
      "last 2->3\n",
      "last 3->4\n",
      "3 <__main__.ListNode object at 0x0000021703188D90>\n",
      "2 <__main__.ListNode object at 0x0000021702ED0FD0>\n",
      "1 <__main__.ListNode object at 0x0000021702ED2690>\n",
      "last 4->5\n",
      "last 5->None\n",
      "3 -> 2 -> 1 -> 4 -> 5 -> None\n"
     ]
    }
   ],
   "source": [
    "head = ListNode.create_linked_list([1,2,3,4,5])\n",
    "k = 3\n",
    "ListNode.print_linked_list(reverseKGroup(head, k))"
   ]
  }
 ],
 "metadata": {
  "kernelspec": {
   "display_name": "base",
   "language": "python",
   "name": "python3"
  },
  "language_info": {
   "codemirror_mode": {
    "name": "ipython",
    "version": 3
   },
   "file_extension": ".py",
   "mimetype": "text/x-python",
   "name": "python",
   "nbconvert_exporter": "python",
   "pygments_lexer": "ipython3",
   "version": "3.11.5"
  }
 },
 "nbformat": 4,
 "nbformat_minor": 5
}
