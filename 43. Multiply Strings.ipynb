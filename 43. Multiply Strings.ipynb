{
 "cells": [
  {
   "cell_type": "code",
   "execution_count": 33,
   "id": "f344aa7c",
   "metadata": {},
   "outputs": [
    {
     "data": {
      "text/plain": [
       "'\\nGiven two non-negative integers num1 and num2 represented as strings,\\nreturn the product of num1 and num2, also represented as a string.\\nNote: You must not use any built-in BigInteger library or convert the inputs to integer directly.\\n\\nExample 1:\\nInput: num1 = \"2\", num2 = \"3\"\\nOutput: \"6\"\\n\\nExample 2:\\nInput: num1 = \"123\", num2 = \"456\"\\nOutput: \"56088\"\\n\\nConstraints:\\n1 <= num1.length, num2.length <= 200\\nnum1 and num2 consist of digits only.\\nBoth num1 and num2 do not contain any leading zero, except the number 0 itself.\\n'"
      ]
     },
     "execution_count": 33,
     "metadata": {},
     "output_type": "execute_result"
    }
   ],
   "source": [
    "\"\"\"\n",
    "Given two non-negative integers num1 and num2 represented as strings,\n",
    "return the product of num1 and num2, also represented as a string.\n",
    "Note: You must not use any built-in BigInteger library or convert the inputs to integer directly.\n",
    "\n",
    "Example 1:\n",
    "Input: num1 = \"2\", num2 = \"3\"\n",
    "Output: \"6\"\n",
    "\n",
    "Example 2:\n",
    "Input: num1 = \"123\", num2 = \"456\"\n",
    "Output: \"56088\"\n",
    "\n",
    "Constraints:\n",
    "1 <= num1.length, num2.length <= 200\n",
    "num1 and num2 consist of digits only.\n",
    "Both num1 and num2 do not contain any leading zero, except the number 0 itself.\n",
    "\"\"\""
   ]
  },
  {
   "cell_type": "code",
   "execution_count": 84,
   "id": "ac0d1304",
   "metadata": {},
   "outputs": [],
   "source": [
    "def multiply(num1, num2):\n",
    "    \"\"\"\n",
    "    :type num1: str\n",
    "    :type num2: str\n",
    "    :rtype: str\n",
    "    \"\"\"\n",
    "    if num1 == \"0\" or num2 == \"0\":\n",
    "        return \"0\"\n",
    "\n",
    "    len1, len2 = len(num1), len(num2)\n",
    "    result = [0] * (len1 + len2)\n",
    "\n",
    "    # Reverse both numbers for easier indexing\n",
    "    num1 = num1[::-1]\n",
    "    num2 = num2[::-1]\n",
    "\n",
    "    num_map={'0':0,'1':1,'2':2,'3':3,'4':4,'5':5,'6':6,'7':7,'8':8,'9':9}\n",
    "    \n",
    "    for i in range(len(num1)):\n",
    "        a = num_map[num1[i]]\n",
    "        for j in range(len(num2)):\n",
    "            b = num_map[num2[j]]\n",
    "            result[i+j] += a*b\n",
    "            remaining = result[i+j]//10\n",
    "            result[i+j] = result[i+j]%10\n",
    "            result[i+j+1] += remaining\n",
    "    while result[-1]==0:\n",
    "        result.pop(-1)\n",
    "    return \"\".join( str(i) for i in result[::-1])"
   ]
  },
  {
   "cell_type": "code",
   "execution_count": null,
   "id": "45ee0008",
   "metadata": {},
   "outputs": [
    {
     "data": {
      "text/plain": [
       "'12'"
      ]
     },
     "execution_count": 85,
     "metadata": {},
     "output_type": "execute_result"
    }
   ],
   "source": [
    "num1 = \"4\"\n",
    "num2 = \"3\"\n",
    "multiply(num1,num2)"
   ]
  },
  {
   "cell_type": "code",
   "execution_count": 86,
   "id": "72c822ac",
   "metadata": {},
   "outputs": [
    {
     "data": {
      "text/plain": [
       "'56088'"
      ]
     },
     "execution_count": 86,
     "metadata": {},
     "output_type": "execute_result"
    }
   ],
   "source": [
    "num1 = \"123\"\n",
    "num2 = \"456\"\n",
    "multiply(num1,num2)"
   ]
  }
 ],
 "metadata": {
  "kernelspec": {
   "display_name": "base",
   "language": "python",
   "name": "python3"
  },
  "language_info": {
   "codemirror_mode": {
    "name": "ipython",
    "version": 3
   },
   "file_extension": ".py",
   "mimetype": "text/x-python",
   "name": "python",
   "nbconvert_exporter": "python",
   "pygments_lexer": "ipython3",
   "version": "3.11.5"
  }
 },
 "nbformat": 4,
 "nbformat_minor": 5
}
