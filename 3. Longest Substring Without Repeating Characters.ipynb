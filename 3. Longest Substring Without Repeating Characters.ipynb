{
 "cells": [
  {
   "cell_type": "markdown",
   "metadata": {},
   "source": [
    "\\# Problem:<br>\n",
    "Given a string s, find the length of the longest substring without duplicate characters.<br>\n",
    "\n",
    "\\# Example 1:<br>\n",
    "Input: s = \"abcabcbb\"<br>\n",
    "Output: 3<br>\n",
    "Explanation: The answer is \"abc\", with the length of 3.<br>\n",
    "\\# Example 2:<br>\n",
    "Input: s = \"bbbbb\"<br>\n",
    "Output: 1<br>\n",
    "Explanation: The answer is \"b\", with the length of 1.<br>\n",
    "\\# Example 3:<br>\n",
    "Input: s = \"pwwkew\"<br>\n",
    "Output: 3<br>\n",
    "Explanation: The answer is \"wke\", with the length of 3.<br>\n",
    "Notice that the answer must be a substring, \"pwke\" is a subsequence and not a substring.<br>\n",
    " \n",
    "\\# Constraints:<br>\n",
    "0 <= s.length <= 5 * 104<br>\n",
    "s consists of English letters, digits, symbols and spaces.<br>"
   ]
  },
  {
   "cell_type": "code",
   "execution_count": 46,
   "metadata": {},
   "outputs": [],
   "source": [
    "def lengthOfLongestSubstring(s):\n",
    "    \"\"\"\n",
    "    :type s: str\n",
    "    :rtype: int\n",
    "    \"\"\"\n",
    "    char_set=set()\n",
    "    longest_substring=0\n",
    "    left_i=0\n",
    "    for right_i in range(len(s)):\n",
    "        while s[right_i] in char_set:\n",
    "            char_set.remove(s[left_i])\n",
    "            left_i+=1\n",
    "        char_set.add(s[right_i])\n",
    "        longest_substring=max(longest_substring,len(char_set))\n",
    "    return longest_substring"
   ]
  },
  {
   "cell_type": "code",
   "execution_count": 47,
   "metadata": {},
   "outputs": [
    {
     "name": "stdout",
     "output_type": "stream",
     "text": [
      "Correct\n"
     ]
    }
   ],
   "source": [
    "s = \"abcabcbb\"\n",
    "r=lengthOfLongestSubstring(s)\n",
    "if r == 3:\n",
    "    print(\"Correct\")\n",
    "else:\n",
    "    print(\"Incorrect\")"
   ]
  },
  {
   "cell_type": "code",
   "execution_count": 48,
   "metadata": {},
   "outputs": [
    {
     "name": "stdout",
     "output_type": "stream",
     "text": [
      "Correct\n"
     ]
    }
   ],
   "source": [
    "s = \"bbbbbbb\"\n",
    "r=lengthOfLongestSubstring(s)\n",
    "if r == 1:\n",
    "    print(\"Correct\")\n",
    "else:\n",
    "    print(\"Incorrect\")"
   ]
  },
  {
   "cell_type": "code",
   "execution_count": 49,
   "metadata": {},
   "outputs": [
    {
     "name": "stdout",
     "output_type": "stream",
     "text": [
      "Correct\n"
     ]
    }
   ],
   "source": [
    "s = \"pwwkew\"\n",
    "r=lengthOfLongestSubstring(s)\n",
    "if r == 3:\n",
    "    print(\"Correct\")\n",
    "else:\n",
    "    print(\"Incorrect\")"
   ]
  }
 ],
 "metadata": {
  "kernelspec": {
   "display_name": "base",
   "language": "python",
   "name": "python3"
  },
  "language_info": {
   "codemirror_mode": {
    "name": "ipython",
    "version": 3
   },
   "file_extension": ".py",
   "mimetype": "text/x-python",
   "name": "python",
   "nbconvert_exporter": "python",
   "pygments_lexer": "ipython3",
   "version": "3.11.5"
  }
 },
 "nbformat": 4,
 "nbformat_minor": 2
}
