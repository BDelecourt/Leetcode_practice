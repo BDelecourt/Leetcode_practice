{
 "cells": [
  {
   "cell_type": "code",
   "execution_count": 36,
   "metadata": {},
   "outputs": [
    {
     "data": {
      "text/plain": [
       "'\\nGiven the head of a linked list, remove the nth node from the end of the list and return its head.\\n\\nExample 1:\\nInput: head = [1,2,3,4,5], n = 2\\nOutput: [1,2,3,5]\\n\\nExample 2:\\nInput: head = [1], n = 1\\nOutput: []\\n\\nExample 3:\\nInput: head = [1,2], n = 1\\nOutput: [1]\\n\\nConstraints:\\nThe number of nodes in the list is sz.\\n1 <= sz <= 30\\n0 <= Node.val <= 100\\n1 <= n <= sz\\n \\n'"
      ]
     },
     "execution_count": 36,
     "metadata": {},
     "output_type": "execute_result"
    }
   ],
   "source": [
    "\"\"\"\n",
    "Given the head of a linked list, remove the nth node from the end of the list and return its head.\n",
    "\n",
    "Example 1:\n",
    "Input: head = [1,2,3,4,5], n = 2\n",
    "Output: [1,2,3,5]\n",
    "\n",
    "Example 2:\n",
    "Input: head = [1], n = 1\n",
    "Output: []\n",
    "\n",
    "Example 3:\n",
    "Input: head = [1,2], n = 1\n",
    "Output: [1]\n",
    "\n",
    "Constraints:\n",
    "The number of nodes in the list is sz.\n",
    "1 <= sz <= 30\n",
    "0 <= Node.val <= 100\n",
    "1 <= n <= sz\n",
    " \n",
    "\"\"\""
   ]
  },
  {
   "cell_type": "code",
   "execution_count": 37,
   "metadata": {},
   "outputs": [],
   "source": [
    "# Definition for singly-linked list.\n",
    "class ListNode(object):\n",
    "     def __init__(self, val=0, next=None):\n",
    "        self.val = val\n",
    "        self.next = next\n",
    "\n",
    "def create_linked_list(values):\n",
    "    head = ListNode()\n",
    "    current = head\n",
    "    for value in values:\n",
    "        current.next = ListNode(value)\n",
    "        current = current.next\n",
    "    return head.next\n",
    "\n",
    "# Helper function to print the linked list\n",
    "def print_linked_list(head):\n",
    "    current = head\n",
    "    while current:\n",
    "        print(current.val, end=\" -> \")\n",
    "        current = current.next\n",
    "    print(\"None\")\n"
   ]
  },
  {
   "cell_type": "code",
   "execution_count": 38,
   "metadata": {},
   "outputs": [],
   "source": [
    "def removeNthFromEnd(head, n):\n",
    "    \"\"\"\n",
    "    :type head: Optional[ListNode]\n",
    "    :type n: int\n",
    "    :rtype: Optional[ListNode]\n",
    "    \"\"\"\n",
    "    dummy_node = ListNode()\n",
    "    dummy_node.next = head\n",
    "    node = node_ahead = dummy_node\n",
    "\n",
    "    for _ in range(n):\n",
    "        node_ahead=node_ahead.next\n",
    "    while node_ahead.next!=None:\n",
    "        node=node.next\n",
    "        node_ahead=node_ahead.next\n",
    "    node.next=node.next.next\n",
    "    return dummy_node.next"
   ]
  },
  {
   "cell_type": "code",
   "execution_count": 39,
   "metadata": {},
   "outputs": [
    {
     "name": "stdout",
     "output_type": "stream",
     "text": [
      "Original list:\n",
      "1 -> 2 -> 3 -> 4 -> 5 -> None\n",
      "List after removing 2nd node from end:\n",
      "1 -> 2 -> 3 -> 5 -> None\n"
     ]
    }
   ],
   "source": [
    "head = create_linked_list([1, 2, 3, 4, 5])\n",
    "print(\"Original list:\")\n",
    "print_linked_list(head)\n",
    "\n",
    "# Remove the 2nd node from the end (expected list: 1 -> 2 -> 3 -> 5)\n",
    "head = removeNthFromEnd(head, 2)\n",
    "print(\"List after removing 2nd node from end:\")\n",
    "print_linked_list(head)"
   ]
  }
 ],
 "metadata": {
  "kernelspec": {
   "display_name": "base",
   "language": "python",
   "name": "python3"
  },
  "language_info": {
   "codemirror_mode": {
    "name": "ipython",
    "version": 3
   },
   "file_extension": ".py",
   "mimetype": "text/x-python",
   "name": "python",
   "nbconvert_exporter": "python",
   "pygments_lexer": "ipython3",
   "version": "3.11.5"
  }
 },
 "nbformat": 4,
 "nbformat_minor": 2
}
