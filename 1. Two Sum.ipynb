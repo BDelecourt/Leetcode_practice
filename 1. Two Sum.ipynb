{
 "cells": [
  {
   "cell_type": "markdown",
   "id": "1dc39cb2",
   "metadata": {},
   "source": [
    "\\# Problem<br>\n",
    "Given an array of integers nums and an integer target, return indices of the two numbers such that they add up to target.<br>\n",
    "You may assume that each input would have exactly one solution, and you may not use the same element twice.<br>\n",
    "You can return the answer in any order.<br>\n",
    "\n",
    "\\# Example 1:<br>\n",
    "Input: nums = [2,7,11,15], target = 9<br>\n",
    "Output: [0,1]<br>\n",
    "Explanation: Because nums[0] + nums[1] == 9, we return [0, 1].<br>\n",
    "\\# Example 2:<br>\n",
    "Input: nums = [3,2,4], target = 6<br>\n",
    "Output: [1,2]<br>\n",
    "\\# Example 3:<br>\n",
    "Input: nums = [3,3], target = 6<br>\n",
    "Output: [0,1]<br>\n",
    "\n",
    "\\# Constraints:<br>\n",
    "2 <= nums.length <= 104<br>\n",
    "-109 <= nums[i] <= 109<br>\n",
    "-109 <= target <= 109<br>\n",
    "Only one valid answer exists.<br>\n",
    " \n",
    "Follow-up: Can you come up with an algorithm that is less than O(n2) time complexity?"
   ]
  },
  {
   "cell_type": "code",
   "execution_count": 3,
   "id": "6e6e3d19",
   "metadata": {},
   "outputs": [],
   "source": [
    "nums = [2,6,8,15,3,3]\n",
    "target = 6"
   ]
  },
  {
   "cell_type": "code",
   "execution_count": 35,
   "id": "f2e66098",
   "metadata": {},
   "outputs": [],
   "source": [
    "def twoSum(nums, target):\n",
    "        \"\"\"\n",
    "        :type nums: List[int]\n",
    "        :type target: int\n",
    "        :rtype: List[int]\n",
    "        \"\"\"\n",
    "        num_dict={}\n",
    "        \n",
    "        for i,j in enumerate(nums):\n",
    "            complement=target-j\n",
    "            if complement in num_dict:\n",
    "                return [i,num_dict[complement]]\n",
    "            else:\n",
    "                num_dict[j]=i\n",
    "        return []\n"
   ]
  },
  {
   "cell_type": "code",
   "execution_count": 36,
   "id": "dc843e05",
   "metadata": {},
   "outputs": [
    {
     "data": {
      "text/plain": [
       "[5, 4]"
      ]
     },
     "execution_count": 36,
     "metadata": {},
     "output_type": "execute_result"
    }
   ],
   "source": [
    "twoSum(nums,target)"
   ]
  },
  {
   "cell_type": "code",
   "execution_count": null,
   "id": "bfad274b",
   "metadata": {},
   "outputs": [],
   "source": [
    "#leetcode 2"
   ]
  },
  {
   "cell_type": "code",
   "execution_count": 63,
   "id": "76687acc",
   "metadata": {},
   "outputs": [],
   "source": [
    "l1 = [0]\n",
    "l2 = [0]"
   ]
  },
  {
   "cell_type": "code",
   "execution_count": 64,
   "id": "bef31d13",
   "metadata": {},
   "outputs": [],
   "source": [
    "def addTwoNumbers(l1, l2):\n",
    "        \"\"\"\n",
    "        :type l1: Optional[ListNode]\n",
    "        :type l2: Optional[ListNode]\n",
    "        :rtype: Optional[ListNode]\n",
    "        \"\"\"\n",
    "        result=[]\n",
    "        memory=0\n",
    "        for i in range(max(len(l1),len(l2))):\n",
    "            if i<len(l1) :\n",
    "                nb1=l1[i]\n",
    "            else:nb1=0\n",
    "            if i<len(l2) :\n",
    "                nb2=l2[i]\n",
    "            else:nb2=0\n",
    "            result.append((nb1+nb2+memory)%10)\n",
    "            memory=(nb1+nb2+memory)//10\n",
    "        if memory!=0:\n",
    "            result.append(memory)\n",
    "        return result \n",
    "    "
   ]
  },
  {
   "cell_type": "code",
   "execution_count": 62,
   "id": "dc0d19aa",
   "metadata": {},
   "outputs": [],
   "source": [
    "addTwoNumbers(l1, l2)"
   ]
  },
  {
   "cell_type": "code",
   "execution_count": null,
   "id": "40adb46f",
   "metadata": {},
   "outputs": [],
   "source": []
  },
  {
   "cell_type": "code",
   "execution_count": null,
   "id": "a35e5d63",
   "metadata": {},
   "outputs": [],
   "source": []
  }
 ],
 "metadata": {
  "kernelspec": {
   "display_name": "base",
   "language": "python",
   "name": "python3"
  },
  "language_info": {
   "codemirror_mode": {
    "name": "ipython",
    "version": 3
   },
   "file_extension": ".py",
   "mimetype": "text/x-python",
   "name": "python",
   "nbconvert_exporter": "python",
   "pygments_lexer": "ipython3",
   "version": "3.11.5"
  }
 },
 "nbformat": 4,
 "nbformat_minor": 5
}
