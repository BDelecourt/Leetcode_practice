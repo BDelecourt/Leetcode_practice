{
 "cells": [
  {
   "cell_type": "code",
   "execution_count": 10,
   "metadata": {},
   "outputs": [
    {
     "data": {
      "text/plain": [
       "'\\nGiven a string containing digits from 2-9 inclusive, return all possible letter combinations that the number could represent. Return the answer in any order.\\nA mapping of digits to letters (just like on the telephone buttons) is given below. Note that 1 does not map to any letters.\\n\\nExample 1:\\nInput: digits = \"23\"\\nOutput: [\"ad\",\"ae\",\"af\",\"bd\",\"be\",\"bf\",\"cd\",\"ce\",\"cf\"]\\n\\nExample 2:\\nInput: digits = \"\"\\nOutput: []\\n\\nExample 3:\\nInput: digits = \"2\"\\nOutput: [\"a\",\"b\",\"c\"]\\n\\nConstraints:\\n0 <= digits.length <= 4\\ndigits[i] is a digit in the range [\\'2\\', \\'9\\'].\\n'"
      ]
     },
     "execution_count": 10,
     "metadata": {},
     "output_type": "execute_result"
    }
   ],
   "source": [
    "\"\"\"\n",
    "Given a string containing digits from 2-9 inclusive, return all possible letter combinations that the number could represent. Return the answer in any order.\n",
    "A mapping of digits to letters (just like on the telephone buttons) is given below. Note that 1 does not map to any letters.\n",
    "\n",
    "Example 1:\n",
    "Input: digits = \"23\"\n",
    "Output: [\"ad\",\"ae\",\"af\",\"bd\",\"be\",\"bf\",\"cd\",\"ce\",\"cf\"]\n",
    "\n",
    "Example 2:\n",
    "Input: digits = \"\"\n",
    "Output: []\n",
    "\n",
    "Example 3:\n",
    "Input: digits = \"2\"\n",
    "Output: [\"a\",\"b\",\"c\"]\n",
    "\n",
    "Constraints:\n",
    "0 <= digits.length <= 4\n",
    "digits[i] is a digit in the range ['2', '9'].\n",
    "\"\"\""
   ]
  },
  {
   "cell_type": "code",
   "execution_count": 11,
   "metadata": {},
   "outputs": [],
   "source": [
    "import time"
   ]
  },
  {
   "cell_type": "code",
   "execution_count": 12,
   "metadata": {},
   "outputs": [],
   "source": [
    "def letterCombinations_recursive(digits):\n",
    "    \"\"\"\n",
    "    :type digits: str\n",
    "    :rtype: L\"\n",
    "    \"\"\"\n",
    "    letters={\"2\":[\"a\",\"b\",\"c\"], \"3\":[\"d\",\"e\",\"f\"], \"4\":[\"g\",\"h\",\"i\"], \"5\":[\"j\",\"k\",\"l\"],\n",
    "             \"6\":[\"m\",\"n\",\"o\"],\"7\":[\"p\",\"q\",\"r\",\"s\"], \"8\":[\"t\",\"u\",\"v\"], \"9\":[\"w\",\"x\",\"y\",\"z\"]}\n",
    "    if not digits:\n",
    "        return []\n",
    "    elif len(digits)==1:\n",
    "        return letters[digits]\n",
    "    else:\n",
    "        list_letters=[]\n",
    "        next_combinations = letterCombinations_recursive(digits[1:])\n",
    "        for i in letters[digits[0]]:\n",
    "            for j in next_combinations:\n",
    "                list_letters.append(i+j)\n",
    "    \n",
    "    return list_letters\n"
   ]
  },
  {
   "cell_type": "code",
   "execution_count": 13,
   "metadata": {},
   "outputs": [],
   "source": [
    "def letterCombinations_iterative(digits):\n",
    "    \"\"\"\n",
    "    :type digits: str\n",
    "    :rtype: List[str]\n",
    "    \"\"\"\n",
    "    if not digits:\n",
    "        return []\n",
    "    \n",
    "    letters = {\n",
    "        \"2\": [\"a\", \"b\", \"c\"], \"3\": [\"d\", \"e\", \"f\"], \"4\": [\"g\", \"h\", \"i\"], \"5\": [\"j\", \"k\", \"l\"],\n",
    "        \"6\": [\"m\", \"n\", \"o\"], \"7\": [\"p\", \"q\", \"r\", \"s\"], \"8\": [\"t\", \"u\", \"v\"], \"9\": [\"w\", \"x\", \"y\", \"z\"]\n",
    "    }\n",
    "    \n",
    "    # Start with an empty combination\n",
    "    result = [\"\"]\n",
    "\n",
    "    # Process each digit from left to right\n",
    "    for digit in digits:\n",
    "        new_result = []\n",
    "        for combination in result:\n",
    "            for letter in letters[digit]:\n",
    "                new_result.append(combination + letter)  # Add new letter to existing combinations\n",
    "        result = new_result  # Update result list with new combinations\n",
    "    \n",
    "    return result"
   ]
  },
  {
   "cell_type": "code",
   "execution_count": 14,
   "metadata": {},
   "outputs": [
    {
     "name": "stdout",
     "output_type": "stream",
     "text": [
      "2\n",
      "iterative approach processing time : 0.00014429999282583594\n",
      "recursive approach processing time : 0.00010390003444626927\n"
     ]
    }
   ],
   "source": [
    "digits = \"23\"\n",
    "print(len(digits))\n",
    "s=time.perf_counter()\n",
    "letterCombinations_iterative(digits)==[\"ad\",\"ae\",\"af\",\"bd\",\"be\",\"bf\",\"cd\",\"ce\",\"cf\"]\n",
    "print(f\"iterative approach processing time : {time.perf_counter()-s}\")\n",
    "s=time.perf_counter()\n",
    "letterCombinations_recursive(digits)==[\"ad\",\"ae\",\"af\",\"bd\",\"be\",\"bf\",\"cd\",\"ce\",\"cf\"]\n",
    "print(f\"recursive approach processing time : {time.perf_counter()-s}\")\n"
   ]
  },
  {
   "cell_type": "code",
   "execution_count": 15,
   "metadata": {},
   "outputs": [
    {
     "data": {
      "text/plain": [
       "True"
      ]
     },
     "execution_count": 15,
     "metadata": {},
     "output_type": "execute_result"
    }
   ],
   "source": [
    "digits = \"2\"\n",
    "letterCombinations_iterative(digits)== [\"a\", \"b\", \"c\"]\n",
    "letterCombinations_recursive(digits)== [\"a\", \"b\", \"c\"]"
   ]
  },
  {
   "cell_type": "code",
   "execution_count": 16,
   "metadata": {},
   "outputs": [
    {
     "data": {
      "text/plain": [
       "True"
      ]
     },
     "execution_count": 16,
     "metadata": {},
     "output_type": "execute_result"
    }
   ],
   "source": [
    "digits = \"\"\n",
    "letterCombinations_iterative(digits)==[]\n",
    "letterCombinations_recursive(digits)==[]"
   ]
  }
 ],
 "metadata": {
  "kernelspec": {
   "display_name": "base",
   "language": "python",
   "name": "python3"
  },
  "language_info": {
   "codemirror_mode": {
    "name": "ipython",
    "version": 3
   },
   "file_extension": ".py",
   "mimetype": "text/x-python",
   "name": "python",
   "nbconvert_exporter": "python",
   "pygments_lexer": "ipython3",
   "version": "3.11.5"
  }
 },
 "nbformat": 4,
 "nbformat_minor": 2
}
