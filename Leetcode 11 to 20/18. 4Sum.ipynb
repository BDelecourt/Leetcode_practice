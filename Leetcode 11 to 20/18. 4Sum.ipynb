{
 "cells": [
  {
   "cell_type": "code",
   "execution_count": 25,
   "metadata": {},
   "outputs": [
    {
     "data": {
      "text/plain": [
       "'\\nGiven an array nums of n integers, return an array of all the unique quadruplets [nums[a], nums[b], nums[c], nums[d]] such that:\\n\\n0 <= a, b, c, d < n\\na, b, c, and d are distinct.\\nnums[a] + nums[b] + nums[c] + nums[d] == target\\nYou may return the answer in any order.\\n\\nExample 1:\\nInput: nums = [1,0,-1,0,-2,2], target = 0\\nOutput: [[-2,-1,1,2],[-2,0,0,2],[-1,0,0,1]]\\n\\nExample 2:\\nInput: nums = [2,2,2,2,2], target = 8\\nOutput: [[2,2,2,2]]\\n\\nConstraints:\\n1 <= nums.length <= 200\\n-109 <= nums[i] <= 109\\n-109 <= target <= 109\"\\n'"
      ]
     },
     "execution_count": 25,
     "metadata": {},
     "output_type": "execute_result"
    }
   ],
   "source": [
    "\"\"\"\n",
    "Given an array nums of n integers, return an array of all the unique quadruplets [nums[a], nums[b], nums[c], nums[d]] such that:\n",
    "\n",
    "0 <= a, b, c, d < n\n",
    "a, b, c, and d are distinct.\n",
    "nums[a] + nums[b] + nums[c] + nums[d] == target\n",
    "You may return the answer in any order.\n",
    "\n",
    "Example 1:\n",
    "Input: nums = [1,0,-1,0,-2,2], target = 0\n",
    "Output: [[-2,-1,1,2],[-2,0,0,2],[-1,0,0,1]]\n",
    "\n",
    "Example 2:\n",
    "Input: nums = [2,2,2,2,2], target = 8\n",
    "Output: [[2,2,2,2]]\n",
    "\n",
    "Constraints:\n",
    "1 <= nums.length <= 200\n",
    "-109 <= nums[i] <= 109\n",
    "-109 <= target <= 109\"\n",
    "\"\"\""
   ]
  },
  {
   "cell_type": "code",
   "execution_count": 26,
   "metadata": {},
   "outputs": [],
   "source": [
    "def fourSum(nums, target):\n",
    "    \"\"\"\n",
    "    :type nums: List[int]\n",
    "    :type target: int\n",
    "    :rtype: List[List[int]]\n",
    "    \"\"\"\n",
    "    nums.sort()\n",
    "    n=len(nums)\n",
    "    list_quadruplets=[]\n",
    "    if n<4:\n",
    "        return []\n",
    "    a,b,c,d=0,1,n-2,n-1\n",
    "\n",
    "    while a!=b and b!=c and c!=d:\n",
    "        print(a,b,c,d)\n",
    "        print([nums[a] , nums[b] , nums[c] , nums[d]])\n",
    "        print(nums[a] + nums[b] + nums[c] + nums[d])\n",
    "        if nums[a] + nums[b] + nums[c] + nums[d] == target :\n",
    "            if [nums[a] , nums[b] , nums[c] , nums[d]] not in list_quadruplets:\n",
    "                list_quadruplets.append([nums[a] , nums[b] , nums[c] , nums[d]])\n",
    "            if d-1!=c:\n",
    "                d-=1\n",
    "            elif c-1!=b:\n",
    "                c-=1\n",
    "            elif b+1!=c:\n",
    "                b+=1\n",
    "            else:\n",
    "                a+=1\n",
    "        elif nums[a] + nums[b] + nums[c] + nums[d] > target:\n",
    "            if d-1!=c:\n",
    "                d-=1\n",
    "            else :\n",
    "                c-=1\n",
    "        elif nums[a] + nums[b] + nums[c] + nums[d] < target:\n",
    "            if b-a>1:\n",
    "                a+=1\n",
    "            else :\n",
    "                b+=1\n",
    "    return list_quadruplets"
   ]
  },
  {
   "cell_type": "code",
   "execution_count": 27,
   "metadata": {},
   "outputs": [
    {
     "name": "stdout",
     "output_type": "stream",
     "text": [
      "0 1 4 5\n",
      "[-2, -1, 1, 2]\n",
      "0\n",
      "0 1 3 5\n",
      "[-2, -1, 0, 2]\n",
      "-1\n",
      "0 2 3 5\n",
      "[-2, 0, 0, 2]\n",
      "0\n",
      "0 2 3 4\n",
      "[-2, 0, 0, 1]\n",
      "-1\n",
      "1 2 3 4\n",
      "[-1, 0, 0, 1]\n",
      "0\n",
      "[[-2, -1, 1, 2], [-2, 0, 0, 2], [-1, 0, 0, 1]]\n"
     ]
    },
    {
     "data": {
      "text/plain": [
       "True"
      ]
     },
     "execution_count": 27,
     "metadata": {},
     "output_type": "execute_result"
    }
   ],
   "source": [
    "nums = [1,0,-1,0,-2,2]\n",
    "target = 0\n",
    "result=fourSum(nums,target)\n",
    "print(result)\n",
    "result==[[-2,-1,1,2],[-2,0,0,2],[-1,0,0,1]]"
   ]
  },
  {
   "cell_type": "code",
   "execution_count": 28,
   "metadata": {},
   "outputs": [],
   "source": [
    "#optimized approach\n",
    "def fourSum_optimized(nums, target):\n",
    "    \"\"\"\n",
    "    :type nums: List[int]\n",
    "    :type target: int\n",
    "    :rtype: List[List[int]]\n",
    "    \"\"\"\n",
    "    nums.sort()  # Sort the input array to use two-pointer technique\n",
    "    n = len(nums)\n",
    "    list_quadruplets = []\n",
    "\n",
    "    if n < 4:\n",
    "        return []\n",
    "\n",
    "    for a in range(n - 3):\n",
    "        if a > 0 and nums[a] == nums[a - 1]:  # Skip duplicate a values\n",
    "            continue\n",
    "\n",
    "        for b in range(a + 1, n - 2):\n",
    "            if b > a + 1 and nums[b] == nums[b - 1]:  # Skip duplicate b values\n",
    "                continue\n",
    "\n",
    "            c, d = b + 1, n - 1  # Two-pointer approach\n",
    "\n",
    "            while c < d:\n",
    "                current_sum = nums[a] + nums[b] + nums[c] + nums[d]\n",
    "\n",
    "                if current_sum == target:\n",
    "                    list_quadruplets.append([nums[a], nums[b], nums[c], nums[d]])\n",
    "\n",
    "                    # Skip duplicate c values\n",
    "                    while c < d and nums[c] == nums[c + 1]:\n",
    "                        c += 1\n",
    "                    c += 1  # Move c to next unique element\n",
    "\n",
    "                    # Skip duplicate d values\n",
    "                    while c < d and nums[d] == nums[d - 1]:\n",
    "                        d -= 1\n",
    "                    d -= 1  # Move d to next unique element\n",
    "\n",
    "                elif current_sum < target:\n",
    "                    c += 1  # Increase sum\n",
    "                else:\n",
    "                    d -= 1  # Decrease sum\n",
    "\n",
    "    return list_quadruplets\n"
   ]
  }
 ],
 "metadata": {
  "kernelspec": {
   "display_name": "base",
   "language": "python",
   "name": "python3"
  },
  "language_info": {
   "codemirror_mode": {
    "name": "ipython",
    "version": 3
   },
   "file_extension": ".py",
   "mimetype": "text/x-python",
   "name": "python",
   "nbconvert_exporter": "python",
   "pygments_lexer": "ipython3",
   "version": "3.11.5"
  }
 },
 "nbformat": 4,
 "nbformat_minor": 2
}
