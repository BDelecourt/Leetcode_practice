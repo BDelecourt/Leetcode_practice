{
 "cells": [
  {
   "cell_type": "code",
   "execution_count": null,
   "metadata": {},
   "outputs": [
    {
     "data": {
      "text/plain": [
       "'\\nGiven an integer array nums of length n and an integer target, find three integers in nums such that the sum is closest to target.\\n\\nReturn the sum of the three integers.\\n\\nYou may assume that each input would have exactly one solution.\\n\\n \\n\\nExample 1:\\n\\nInput: nums = [-1,2,1,-4], target = 1\\nOutput: 2\\nExplanation: The sum that is closest to the target is 2. (-1 + 2 + 1 = 2).\\nExample 2:\\n\\nInput: nums = [0,0,0], target = 1\\nOutput: 0\\nExplanation: The sum that is closest to the target is 0. (0 + 0 + 0 = 0).\\n \\n\\nConstraints:\\n\\n3 <= nums.length <= 500\\n-1000 <= nums[i] <= 1000\\n-104 <= target <= 104\\n'"
      ]
     },
     "execution_count": 1,
     "metadata": {},
     "output_type": "execute_result"
    }
   ],
   "source": [
    "\"\"\"\n",
    "Given an integer array nums of length n and an integer target, find three integers in nums such that the sum is closest to target.\n",
    "Return the sum of the three integers.\n",
    "You may assume that each input would have exactly one solution.\n",
    "\n",
    "Example 1:\n",
    "Input: nums = [-1,2,1,-4], target = 1\n",
    "Output: 2\n",
    "Explanation: The sum that is closest to the target is 2. (-1 + 2 + 1 = 2).\n",
    "\n",
    "Example 2:\n",
    "Input: nums = [0,0,0], target = 1\n",
    "Output: 0\n",
    "Explanation: The sum that is closest to the target is 0. (0 + 0 + 0 = 0).\n",
    " \n",
    "\n",
    "Constraints:\n",
    "\n",
    "3 <= nums.length <= 500\n",
    "-1000 <= nums[i] <= 1000\n",
    "-104 <= target <= 104\n",
    "\"\"\""
   ]
  },
  {
   "cell_type": "code",
   "execution_count": 19,
   "metadata": {},
   "outputs": [],
   "source": [
    "def threeSumClosest(nums, target):\n",
    "    \"\"\"\n",
    "    :type nums: List[int]\n",
    "    :type target: int\n",
    "    :rtype: int\n",
    "    \"\"\"\n",
    "    \n",
    "    # Step 1: Sort the array to use the two-pointer approach efficiently\n",
    "    nums.sort()\n",
    "    \n",
    "    # Step 2: Initialize variables\n",
    "    min_sum = float(\"inf\")  # This keeps track of the minimum difference found so far\n",
    "    closest_triplet = []  # This stores the triplet that gives the closest sum\n",
    "    \n",
    "    # Step 3: Iterate through each number as a potential first number in the triplet\n",
    "    for i in range(len(nums) - 2):\n",
    "        left = i + 1  # Left pointer (start just after the current number)\n",
    "        right = len(nums) - 1  # Right pointer (start at the end of the array)\n",
    "        \n",
    "        # Step 4: Move the left and right pointers to find the closest sum\n",
    "        while left < right:\n",
    "            sum = nums[i] + nums[left] + nums[right]  # Compute the sum of the triplet\n",
    "            \n",
    "            # Step 5: Update closest triplet if the current sum is closer to the target\n",
    "            if abs(target - sum) < abs(min_sum):\n",
    "                closest_triplet = [nums[i], nums[left], nums[right]]\n",
    "                min_sum = target - sum  # Update the minimum difference\n",
    "            \n",
    "            # Step 6: Move pointers based on how the sum compares to the target\n",
    "            if sum < target:\n",
    "                left += 1  # Increase the sum by moving left pointer to a larger number\n",
    "            elif sum > target:\n",
    "                right -= 1  # Decrease the sum by moving right pointer to a smaller number\n",
    "            else:\n",
    "                # If the sum exactly equals the target, return immediately\n",
    "                return [nums[i], nums[left], nums[right]]\n",
    "\n",
    "    # Step 7: Return the closest triplet and the closest difference\n",
    "    return closest_triplet, target - min_sum\n"
   ]
  },
  {
   "cell_type": "code",
   "execution_count": 20,
   "metadata": {},
   "outputs": [
    {
     "data": {
      "text/plain": [
       "([-1, 1, 2], 2)"
      ]
     },
     "execution_count": 20,
     "metadata": {},
     "output_type": "execute_result"
    }
   ],
   "source": [
    "nums = [-1,2,1,-4]\n",
    "target = 1\n",
    "threeSumClosest(nums,target)"
   ]
  },
  {
   "cell_type": "code",
   "execution_count": 21,
   "metadata": {},
   "outputs": [
    {
     "data": {
      "text/plain": [
       "([0, 0, 0], 0)"
      ]
     },
     "execution_count": 21,
     "metadata": {},
     "output_type": "execute_result"
    }
   ],
   "source": [
    "nums = [0,0,0]\n",
    "target = 1\n",
    "threeSumClosest(nums,target)"
   ]
  }
 ],
 "metadata": {
  "kernelspec": {
   "display_name": "base",
   "language": "python",
   "name": "python3"
  },
  "language_info": {
   "codemirror_mode": {
    "name": "ipython",
    "version": 3
   },
   "file_extension": ".py",
   "mimetype": "text/x-python",
   "name": "python",
   "nbconvert_exporter": "python",
   "pygments_lexer": "ipython3",
   "version": "3.11.5"
  }
 },
 "nbformat": 4,
 "nbformat_minor": 2
}
