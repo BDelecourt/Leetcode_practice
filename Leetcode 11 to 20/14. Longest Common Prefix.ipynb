{
 "cells": [
  {
   "cell_type": "code",
   "execution_count": null,
   "metadata": {},
   "outputs": [
    {
     "data": {
      "text/plain": [
       "'\\nWrite a function to find the longest common prefix string amongst an array of strings.\\n\\nIf there is no common prefix, return an empty string \"\".\\n\\n \\n\\nExample 1:\\n\\nInput: strs = [\"flower\",\"flow\",\"flight\"]\\nOutput: \"fl\"\\nExample 2:\\n\\nInput: strs = [\"dog\",\"racecar\",\"car\"]\\nOutput: \"\"\\nExplanation: There is no common prefix among the input strings.\\n \\n\\nConstraints:\\n\\n1 <= strs.length <= 200\\n0 <= strs[i].length <= 200\\nstrs[i] consists of only lowercase English letters if it is non-empty.\"\\n'"
      ]
     },
     "execution_count": 1,
     "metadata": {},
     "output_type": "execute_result"
    }
   ],
   "source": [
    "\"\"\"\n",
    "Write a function to find the longest common prefix string amongst an array of strings.\n",
    "\n",
    "If there is no common prefix, return an empty string \"\". \n",
    "\n",
    "Example 1:\n",
    "Input: strs = [\"flower\",\"flow\",\"flight\"]\n",
    "Output: \"fl\"\n",
    "\n",
    "Example 2:\n",
    "Input: strs = [\"dog\",\"racecar\",\"car\"]\n",
    "Output: \"\"\n",
    "Explanation: There is no common prefix among the input strings.\n",
    "\n",
    "Constraints:\n",
    "1 <= strs.length <= 200\n",
    "0 <= strs[i].length <= 200\n",
    "strs[i] consists of only lowercase English letters if it is non-empty.\"\n",
    "\"\"\""
   ]
  },
  {
   "cell_type": "code",
   "execution_count": 1,
   "metadata": {},
   "outputs": [],
   "source": [
    "def longestCommonPrefix(strs):\n",
    "    \"\"\"\n",
    "    :type strs: List[str]\n",
    "    :rtype: str\n",
    "    \"\"\"\n",
    "    if not strs:\n",
    "        return \"\"\n",
    "\n",
    "    def is_common_prefix(length):\n",
    "        prefix = strs[0][:length]\n",
    "        return all(s.startswith(prefix) for s in strs)\n",
    "\n",
    "    left, right = 0, min(len(s) for s in strs)\n",
    "    \n",
    "    while left < right:\n",
    "        mid = (left + right + 1) // 2  # Middle length to check\n",
    "        if is_common_prefix(mid):\n",
    "            left = mid  # Move right\n",
    "        else:\n",
    "            right = mid - 1  # Move left\n",
    "    \n",
    "    return strs[0][:left]"
   ]
  },
  {
   "cell_type": "code",
   "execution_count": 2,
   "metadata": {},
   "outputs": [
    {
     "data": {
      "text/plain": [
       "'fl'"
      ]
     },
     "execution_count": 2,
     "metadata": {},
     "output_type": "execute_result"
    }
   ],
   "source": [
    "strs = [\"flower\",\"flow\",\"flight\"]\n",
    "longestCommonPrefix(strs)"
   ]
  },
  {
   "cell_type": "code",
   "execution_count": 3,
   "metadata": {},
   "outputs": [
    {
     "data": {
      "text/plain": [
       "''"
      ]
     },
     "execution_count": 3,
     "metadata": {},
     "output_type": "execute_result"
    }
   ],
   "source": [
    "strs = [\"dog\",\"racecar\",\"car\"]\n",
    "longestCommonPrefix(strs)"
   ]
  }
 ],
 "metadata": {
  "kernelspec": {
   "display_name": "base",
   "language": "python",
   "name": "python3"
  },
  "language_info": {
   "codemirror_mode": {
    "name": "ipython",
    "version": 3
   },
   "file_extension": ".py",
   "mimetype": "text/x-python",
   "name": "python",
   "nbconvert_exporter": "python",
   "pygments_lexer": "ipython3",
   "version": "3.11.5"
  }
 },
 "nbformat": 4,
 "nbformat_minor": 2
}
