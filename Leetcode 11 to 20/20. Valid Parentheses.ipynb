{
 "cells": [
  {
   "cell_type": "code",
   "execution_count": 15,
   "metadata": {},
   "outputs": [
    {
     "data": {
      "text/plain": [
       "'\\n\"Given a string s containing just the characters \\'(\\', \\')\\', \\'{\\', \\'}\\', \\'[\\' and \\']\\', determine if the input string is valid.\\nAn input string is valid if:\\nOpen brackets must be closed by the same type of brackets.\\nOpen brackets must be closed in the correct order.\\nEvery close bracket has a corresponding open bracket of the same type.\\n\\nExample 1:\\nInput: s = \"()\"\\nOutput: true\\n\\nExample 2:\\nInput: s = \"()[]{}\"\\nOutput: true\\n\\nExample 3:\\nInput: s = \"(]\"\\nOutput: false\\n\\nExample 4:\\nInput: s = \"([])\"\\nOutput: true\\n\\nConstraints:\\n1 <= s.length <= 104\\ns consists of parentheses only \\'()[]{}\\'.\"\\n'"
      ]
     },
     "execution_count": 15,
     "metadata": {},
     "output_type": "execute_result"
    }
   ],
   "source": [
    "\"\"\"\n",
    "\"Given a string s containing just the characters '(', ')', '{', '}', '[' and ']', determine if the input string is valid.\n",
    "An input string is valid if:\n",
    "Open brackets must be closed by the same type of brackets.\n",
    "Open brackets must be closed in the correct order.\n",
    "Every close bracket has a corresponding open bracket of the same type.\n",
    "\n",
    "Example 1:\n",
    "Input: s = \"()\"\n",
    "Output: true\n",
    "\n",
    "Example 2:\n",
    "Input: s = \"()[]{}\"\n",
    "Output: true\n",
    "\n",
    "Example 3:\n",
    "Input: s = \"(]\"\n",
    "Output: false\n",
    "\n",
    "Example 4:\n",
    "Input: s = \"([])\"\n",
    "Output: true\n",
    "\n",
    "Constraints:\n",
    "1 <= s.length <= 104\n",
    "s consists of parentheses only '()[]{}'.\"\n",
    "\"\"\""
   ]
  },
  {
   "cell_type": "code",
   "execution_count": 16,
   "metadata": {},
   "outputs": [],
   "source": [
    "def isValid(s):\n",
    "    \"\"\"\n",
    "    :type s: str\n",
    "    :rtype: bool\n",
    "    \"\"\"\n",
    "    brackets_dict={\"(\":\")\",\"[\":\"]\",\"{\":\"}\"}\n",
    "    open_brackets=[\"(\",\"[\",\"{\"]\n",
    "    s_bis=[]\n",
    "    if len(s)%2!=0:\n",
    "        return False\n",
    "    for i in s:\n",
    "        if i in open_brackets:\n",
    "            s_bis.append(brackets_dict[i])\n",
    "        else:\n",
    "            if not s_bis or i != s_bis.pop():\n",
    "                return False\n",
    "    return True\n",
    "\n"
   ]
  },
  {
   "cell_type": "code",
   "execution_count": 17,
   "metadata": {},
   "outputs": [
    {
     "data": {
      "text/plain": [
       "True"
      ]
     },
     "execution_count": 17,
     "metadata": {},
     "output_type": "execute_result"
    }
   ],
   "source": [
    "s=\"()[]{}\"\n",
    "isValid(s)==True"
   ]
  },
  {
   "cell_type": "code",
   "execution_count": 18,
   "metadata": {},
   "outputs": [
    {
     "data": {
      "text/plain": [
       "True"
      ]
     },
     "execution_count": 18,
     "metadata": {},
     "output_type": "execute_result"
    }
   ],
   "source": [
    "s = \"()\"\n",
    "isValid(s)==True"
   ]
  },
  {
   "cell_type": "code",
   "execution_count": 19,
   "metadata": {},
   "outputs": [
    {
     "data": {
      "text/plain": [
       "True"
      ]
     },
     "execution_count": 19,
     "metadata": {},
     "output_type": "execute_result"
    }
   ],
   "source": [
    "s = \"(]\"\n",
    "isValid(s)==False"
   ]
  },
  {
   "cell_type": "code",
   "execution_count": 20,
   "metadata": {},
   "outputs": [
    {
     "data": {
      "text/plain": [
       "True"
      ]
     },
     "execution_count": 20,
     "metadata": {},
     "output_type": "execute_result"
    }
   ],
   "source": [
    "s = \"([][]()(()))\"\n",
    "isValid(s)==True"
   ]
  }
 ],
 "metadata": {
  "kernelspec": {
   "display_name": "base",
   "language": "python",
   "name": "python3"
  },
  "language_info": {
   "codemirror_mode": {
    "name": "ipython",
    "version": 3
   },
   "file_extension": ".py",
   "mimetype": "text/x-python",
   "name": "python",
   "nbconvert_exporter": "python",
   "pygments_lexer": "ipython3",
   "version": "3.11.5"
  }
 },
 "nbformat": 4,
 "nbformat_minor": 2
}
