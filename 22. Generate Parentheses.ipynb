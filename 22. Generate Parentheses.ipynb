{
 "cells": [
  {
   "cell_type": "code",
   "execution_count": null,
   "metadata": {},
   "outputs": [
    {
     "data": {
      "text/plain": [
       "'\\nGiven n pairs of parentheses, write a function to generate all combinations of well-formed parentheses.\\n\\nExample 1:\\nInput: n = 3\\nOutput: [\"((()))\",\"(()())\",\"(())()\",\"()(())\",\"()()()\"]\\n\\nExample 2:\\nInput: n = 1\\nOutput: [\"()\"]\\n \\nConstraints:\\n1 <= n <= 8\\n'"
      ]
     },
     "execution_count": 1,
     "metadata": {},
     "output_type": "execute_result"
    }
   ],
   "source": [
    "\"\"\"\n",
    "Given n pairs of parentheses, write a function to generate all combinations of well-formed parentheses.\n",
    "\n",
    "Example 1:\n",
    "Input: n = 3\n",
    "Output: [\"((()))\",\"(()())\",\"(())()\",\"()(())\",\"()()()\"]\n",
    "\n",
    "Example 2:\n",
    "Input: n = 1\n",
    "Output: [\"()\"]\n",
    "\n",
    "Constraints:\n",
    "1 <= n <= 8\n",
    "\"\"\""
   ]
  },
  {
   "cell_type": "code",
   "execution_count": null,
   "metadata": {},
   "outputs": [],
   "source": [
    "def generateParenthesis(n):\n",
    "    \"\"\"\n",
    "    :type n: int\n",
    "    :rtype: List[str]\n",
    "    \"\"\"\n",
    "    if n==1:\n",
    "        return [\"()\"]\n",
    "    list_parenthesis={}\n",
    "    for i in generateParenthesis(n-1):\n",
    "        list_parenthesis.add(i+\"()\")\n",
    "        list_parenthesis.add(\"(\"+i+\")\")\n",
    "        list_parenthesis.add(\"()\"+i) \n",
    "        \n",
    "    return list_parenthesis\n"
   ]
  },
  {
   "cell_type": "code",
   "execution_count": null,
   "metadata": {},
   "outputs": [],
   "source": [
    "def generateParenthesis_optimized(n):\n",
    "    \"\"\"\n",
    "    :type n: int\n",
    "    :rtype: List[str]\n",
    "    \"\"\"\n",
    "    result = []\n",
    "\n",
    "    def backtrack(current, open_count, close_count):\n",
    "        if len(current) == 2 * n:\n",
    "            result.append(current)\n",
    "            return\n",
    "\n",
    "        if open_count < n:\n",
    "            backtrack(current + \"(\", open_count + 1, close_count)\n",
    "\n",
    "        if close_count < open_count: \n",
    "            backtrack(current + \")\", open_count, close_count + 1)\n",
    "\n",
    "    backtrack(\"\", 0, 0)\n",
    "    return result"
   ]
  },
  {
   "cell_type": "code",
   "execution_count": null,
   "metadata": {},
   "outputs": [
    {
     "name": "stdout",
     "output_type": "stream",
     "text": [
      "True\n",
      "True\n",
      "True\n",
      "True\n",
      "True\n"
     ]
    }
   ],
   "source": [
    "n = 3\n",
    "output=[\"((()))\",\"(()())\",\"(())()\",\"()(())\",\"()()()\"]\n",
    "for i in generateParenthesis_optimized(3):\n",
    "    if i not in output:\n",
    "        print(False)\n",
    "    else: print(True)\n"
   ]
  }
 ],
 "metadata": {
  "kernelspec": {
   "display_name": "base",
   "language": "python",
   "name": "python3"
  },
  "language_info": {
   "codemirror_mode": {
    "name": "ipython",
    "version": 3
   },
   "file_extension": ".py",
   "mimetype": "text/x-python",
   "name": "python",
   "nbconvert_exporter": "python",
   "pygments_lexer": "ipython3",
   "version": "3.11.5"
  }
 },
 "nbformat": 4,
 "nbformat_minor": 2
}
