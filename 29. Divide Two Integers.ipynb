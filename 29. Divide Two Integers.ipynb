{
 "cells": [
  {
   "cell_type": "code",
   "execution_count": null,
   "id": "a6ae3747",
   "metadata": {},
   "outputs": [],
   "source": [
    "\"\"\"\n",
    "Given two integers dividend and divisor, divide two integers without using multiplication, division, and mod operator.\n",
    "The integer division should truncate toward zero, which means losing its fractional part.\n",
    "For example, 8.345 would be truncated to 8, and -2.7335 would be truncated to -2.\n",
    "Return the quotient after dividing dividend by divisor.\n",
    "Note: Assume we are dealing with an environment that could only store integers within the 32-bit signed integer range: [−231, 231 − 1].\n",
    "For this problem, if the quotient is strictly greater than 231 - 1, then return 231 - 1, and if the quotient is strictly less than -231, then return -231.\n",
    "\n",
    "Example 1:\n",
    "Input: dividend = 10, divisor = 3\n",
    "Output: 3\n",
    "Explanation: 10/3 = 3.33333.. which is truncated to 3.\n",
    "\n",
    "Example 2:\n",
    "Input: dividend = 7, divisor = -3\n",
    "Output: -2\n",
    "Explanation: 7/-3 = -2.33333.. which is truncated to -2.\n",
    " \n",
    "Constraints:\n",
    "-2^31 <= dividend, divisor <= 2^31 - 1\n",
    "divisor != 0\n",
    "\"\"\""
   ]
  },
  {
   "cell_type": "code",
   "execution_count": null,
   "id": "51930877",
   "metadata": {},
   "outputs": [],
   "source": [
    "def divideTwoInteger(dividend,divisor):\n",
    "\n",
    "    neg_quotient=False\n",
    "    quotient=0\n",
    "\n",
    "    # Constants for 32-bit integer limits\n",
    "    INT_MAX = 2**31 - 1\n",
    "    INT_MIN = -2**31\n",
    "\n",
    "    if divisor==0:\n",
    "        return \"error cannot divide by 0\"\n",
    "\n",
    "    # Edge case: overflow. The only overflow case for 32-bit signed integers is when:\n",
    "    if dividend == INT_MIN and divisor == -1:\n",
    "        return INT_MAX\n",
    "\n",
    "    if (divisor<0 and dividend>0):\n",
    "        divisor=-divisor\n",
    "        neg_quotient=True\n",
    "\n",
    "    elif (divisor>0 and dividend<0):\n",
    "        dividend=-dividend\n",
    "        neg_quotient=True\n",
    "\n",
    "    elif divisor<0 and dividend<0:\n",
    "        divisor=-divisor\n",
    "        dividend=-dividend\n",
    "\n",
    "    while dividend>=divisor:\n",
    "        dividend=dividend-divisor\n",
    "        quotient+=1\n",
    "\n",
    "    return -quotient if neg_quotient else quotient"
   ]
  },
  {
   "cell_type": "code",
   "execution_count": 2,
   "id": "4de331d3",
   "metadata": {},
   "outputs": [
    {
     "data": {
      "text/plain": [
       "3"
      ]
     },
     "execution_count": 2,
     "metadata": {},
     "output_type": "execute_result"
    }
   ],
   "source": [
    "dividend = 10\n",
    "divisor = 3\n",
    "divideTwoInteger(dividend,divisor)"
   ]
  },
  {
   "cell_type": "code",
   "execution_count": 3,
   "id": "0bbac91b",
   "metadata": {},
   "outputs": [
    {
     "data": {
      "text/plain": [
       "-2"
      ]
     },
     "execution_count": 3,
     "metadata": {},
     "output_type": "execute_result"
    }
   ],
   "source": [
    "dividend = 7\n",
    "divisor = -3\n",
    "divideTwoInteger(dividend,divisor)"
   ]
  }
 ],
 "metadata": {
  "kernelspec": {
   "display_name": "base",
   "language": "python",
   "name": "python3"
  },
  "language_info": {
   "codemirror_mode": {
    "name": "ipython",
    "version": 3
   },
   "file_extension": ".py",
   "mimetype": "text/x-python",
   "name": "python",
   "nbconvert_exporter": "python",
   "pygments_lexer": "ipython3",
   "version": "3.11.5"
  }
 },
 "nbformat": 4,
 "nbformat_minor": 5
}
