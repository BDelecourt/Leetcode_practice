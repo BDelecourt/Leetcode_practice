{
 "cells": [
  {
   "cell_type": "code",
   "execution_count": null,
   "metadata": {},
   "outputs": [],
   "source": [
    "\"\"\"\n",
    "Given a linked list, swap every two adjacent nodes and return its head.\n",
    "You must solve the problem without modifying the values in the list's nodes \n",
    "(i.e., only nodes themselves may be changed.)\n",
    "\n",
    "Example 1:\n",
    "Input: head = [1,2,3,4]\n",
    "Output: [2,1,4,3]\n",
    "\n",
    "Example 2:\n",
    "Input: head = []\n",
    "Output: []\n",
    "\n",
    "Example 3:\n",
    "Input: head = [1]\n",
    "Output: [1]\n",
    "\n",
    "Example 4:\n",
    "Input: head = [1,2,3]\n",
    "Output: [2,1,3]\n",
    " \n",
    "\n",
    "Constraints:\n",
    "The number of nodes in the list is in the range [0, 100].\n",
    "0 <= Node.val <= 100\n",
    "\"\"\""
   ]
  },
  {
   "cell_type": "code",
   "execution_count": 6,
   "metadata": {},
   "outputs": [],
   "source": [
    "# Definition for singly-linked list.\n",
    "class ListNode(object):\n",
    "    def __init__(self, val=0, next=None):\n",
    "        self.val = val\n",
    "        self.next = next\n",
    "    def create_linked_list(values):\n",
    "        head = ListNode()\n",
    "        current = head\n",
    "        for value in values:\n",
    "            current.next = ListNode(value)\n",
    "            current = current.next\n",
    "        return head.next\n",
    "\n",
    "    def print_linked_list(head):\n",
    "        current = head\n",
    "        while current:\n",
    "            print(current.val, end=\" -> \")\n",
    "            current = current.next\n",
    "        print(\"None\")"
   ]
  },
  {
   "cell_type": "code",
   "execution_count": 32,
   "metadata": {},
   "outputs": [],
   "source": [
    "\n",
    "def swapPairs(head):\n",
    "    \"\"\"\n",
    "    :type head: Optional[ListNode]\n",
    "    :rtype: Optional[ListNode]\n",
    "    \"\"\"\n",
    "    swap_list=ListNode(0,head)\n",
    "    prev,curr=swap_list,head\n",
    "    while curr and curr.next :\n",
    "        pair_with_curr=curr.next\n",
    "        nextpair=curr.next.next\n",
    "\n",
    "        pair_with_curr.next=curr\n",
    "        curr.next=nextpair\n",
    "        prev.next=pair_with_curr\n",
    "\n",
    "        prev=curr\n",
    "        curr=nextpair\n",
    "        \n",
    "    return swap_list.next"
   ]
  },
  {
   "cell_type": "code",
   "execution_count": 33,
   "metadata": {},
   "outputs": [
    {
     "name": "stdout",
     "output_type": "stream",
     "text": [
      "2 -> 1 -> 4 -> 3 -> None\n"
     ]
    }
   ],
   "source": [
    "head=ListNode.create_linked_list([1,2,3,4])\n",
    "ListNode.print_linked_list(swapPairs(head))"
   ]
  }
 ],
 "metadata": {
  "kernelspec": {
   "display_name": "base",
   "language": "python",
   "name": "python3"
  },
  "language_info": {
   "codemirror_mode": {
    "name": "ipython",
    "version": 3
   },
   "file_extension": ".py",
   "mimetype": "text/x-python",
   "name": "python",
   "nbconvert_exporter": "python",
   "pygments_lexer": "ipython3",
   "version": "3.11.5"
  }
 },
 "nbformat": 4,
 "nbformat_minor": 2
}
